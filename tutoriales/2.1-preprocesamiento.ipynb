{
 "cells": [
  {
   "attachments": {},
   "cell_type": "markdown",
   "metadata": {},
   "source": [
    "# Preprocesamiento de datos de texto"
   ]
  },
  {
   "cell_type": "code",
   "execution_count": 1,
   "metadata": {},
   "outputs": [],
   "source": [
    "import datasets  # Biblioteca de manejo de conjuntos de datos para procesamiento de lenguaje natural\n",
    "import es_core_news_sm  # Modelo Spacy de procesamiento de lenguaje natural en español\n",
    "import spacy  # Biblioteca de procesamiento de lenguaje natural\n",
    "import pandas as pd  # Biblioteca de manejo de conjuntos de datos\n",
    "import re  # Módulo de expresiones regulares\n",
    "import tokenizers  # Biblioteca de tokenización de texto\n",
    "import nltk  # Biblioteca de procesamiento de lenguaje natural\n",
    "from pathlib import Path  # Biblioteca para manejo de paths relativos"
   ]
  },
  {
   "attachments": {},
   "cell_type": "markdown",
   "metadata": {},
   "source": [
    "## 🤗 Datasets\n",
    "\n",
    "🤗 (HuggingFace) Datasets es una biblioteca de manejo de conjuntos de datos para procesamiento de lenguaje natural que se destaca por la simplicidad de sus métodos y el gran repositorio 🤗 Hub que contiene muchos conjuntos de datos libres para descargar sólo con una linea de Python.\n",
    "\n",
    "En nuestro curso trabajaremos con `spanish_diagnostics`, un conjunto de datos de nuestro grupo investigación PLN@CMM que contiene textos de sospechas diagnósticas de la lista de espera chilena y está etiquetado con el destino de la interconsulta; este destino puede ser `dental` o `no_dental`."
   ]
  },
  {
   "cell_type": "code",
   "execution_count": 2,
   "metadata": {},
   "outputs": [],
   "source": [
    "# Con esta linea descargamos el conjunto de datos completo\n",
    "spanish_diagnostics = datasets.load_dataset('fvillena/spanish_diagnostics')"
   ]
  },
  {
   "cell_type": "code",
   "execution_count": 3,
   "metadata": {},
   "outputs": [],
   "source": [
    "def normalize(text, remove_tildes=True):\n",
    "    \"\"\"Normaliza una cadena de texto convirtiéndo todo a minúsculas, quitando los caracteres no alfabéticos y los tildes\"\"\"\n",
    "    text = text.lower()  # Llevamos todo a minúscula\n",
    "    # Reemplazamos los caracteres no alfabéticos por un espacio\n",
    "    text = re.sub(r'[^A-Za-zñáéíóú]', ' ', text)\n",
    "    if remove_tildes:\n",
    "        text = re.sub('á', 'a', text)  # Reemplazamos los tildes\n",
    "        text = re.sub('é', 'e', text)\n",
    "        text = re.sub('í', 'i', text)\n",
    "        text = re.sub('ó', 'o', text)\n",
    "        text = re.sub('ú', 'u', text)\n",
    "    return text"
   ]
  },
  {
   "cell_type": "code",
   "execution_count": 4,
   "metadata": {},
   "outputs": [
    {
     "data": {
      "application/vnd.jupyter.widget-view+json": {
       "model_id": "926c298589e447da9acd40e0d130b156",
       "version_major": 2,
       "version_minor": 0
      },
      "text/plain": [
       "Map:   0%|          | 0/70000 [00:00<?, ? examples/s]"
      ]
     },
     "metadata": {},
     "output_type": "display_data"
    }
   ],
   "source": [
    "spanish_diagnostics_normalized = spanish_diagnostics[\"train\"].map(\n",
    "    lambda x: {  # Utilizamos una función anónima que devuelve un diccionario\n",
    "        # Esta es una nueva característica que agregaremos a nuestro conjunto de datos.\n",
    "        \"normalized_text\": normalize(x[\"text\"])\n",
    "    })"
   ]
  },
  {
   "cell_type": "code",
   "execution_count": 5,
   "metadata": {},
   "outputs": [
    {
     "data": {
      "text/plain": [
       "Dataset({\n",
       "    features: ['text', 'label', 'normalized_text'],\n",
       "    num_rows: 70000\n",
       "})"
      ]
     },
     "execution_count": 5,
     "metadata": {},
     "output_type": "execute_result"
    }
   ],
   "source": [
    "spanish_diagnostics_normalized"
   ]
  },
  {
   "attachments": {},
   "cell_type": "markdown",
   "metadata": {},
   "source": [
    "Ahora nuestro conjunto de datos cuenta con una nueva característica `normalized_text`."
   ]
  },
  {
   "cell_type": "code",
   "execution_count": 6,
   "metadata": {},
   "outputs": [
    {
     "data": {
      "text/plain": [
       "{'text': '- ANOMALÍAS DENTOFACIALES (INCLUSO LA MALOCLUSIÓN)\\n\\n\\n DISCREPANCIA DENTOMAXILAR',\n",
       " 'label': 1,\n",
       " 'normalized_text': '  anomalias dentofaciales  incluso la maloclusion     discrepancia dentomaxilar'}"
      ]
     },
     "execution_count": 6,
     "metadata": {},
     "output_type": "execute_result"
    }
   ],
   "source": [
    "spanish_diagnostics_normalized[0]"
   ]
  },
  {
   "attachments": {},
   "cell_type": "markdown",
   "metadata": {},
   "source": [
    "## Tokenización\n",
    "\n",
    "La tokenización es el proceso de demarcación de secciones de una cadena de caracteres. Estas secciones podrían ser oraciones, palabras o subpalabras.\n",
    "\n",
    "El método más simple para tokenizar una cadena de caracteres en nuestro lenguaje es la separación por espacios. Aplicamos una separación por espacios mediante el método `str.split()` sobre nuestro conjunto de datos normalizado."
   ]
  },
  {
   "cell_type": "code",
   "execution_count": 7,
   "metadata": {},
   "outputs": [
    {
     "data": {
      "text/plain": [
       "'  anomalias dentofaciales  incluso la maloclusion     discrepancia dentomaxilar'"
      ]
     },
     "execution_count": 7,
     "metadata": {},
     "output_type": "execute_result"
    }
   ],
   "source": [
    "spanish_diagnostics_normalized[0][\"normalized_text\"]"
   ]
  },
  {
   "cell_type": "code",
   "execution_count": 8,
   "metadata": {},
   "outputs": [
    {
     "data": {
      "text/plain": [
       "['anomalias',\n",
       " 'dentofaciales',\n",
       " 'incluso',\n",
       " 'la',\n",
       " 'maloclusion',\n",
       " 'discrepancia',\n",
       " 'dentomaxilar']"
      ]
     },
     "execution_count": 8,
     "metadata": {},
     "output_type": "execute_result"
    }
   ],
   "source": [
    "spanish_diagnostics_normalized[0][\"normalized_text\"].split()"
   ]
  },
  {
   "attachments": {},
   "cell_type": "markdown",
   "metadata": {},
   "source": [
    "Si bien el método de separación por espacios funciona bien en nuestro conjunto de datos normalizado, también quisiéramos tokenizar nuestro texto sin normalizar."
   ]
  },
  {
   "cell_type": "code",
   "execution_count": 9,
   "metadata": {},
   "outputs": [
    {
     "data": {
      "text/plain": [
       "'- ANOMALÍAS DENTOFACIALES (INCLUSO LA MALOCLUSIÓN)\\n\\n\\n DISCREPANCIA DENTOMAXILAR'"
      ]
     },
     "execution_count": 9,
     "metadata": {},
     "output_type": "execute_result"
    }
   ],
   "source": [
    "spanish_diagnostics_normalized[0][\"text\"]"
   ]
  },
  {
   "cell_type": "code",
   "execution_count": 10,
   "metadata": {},
   "outputs": [
    {
     "data": {
      "text/plain": [
       "['-',\n",
       " 'ANOMALÍAS',\n",
       " 'DENTOFACIALES',\n",
       " '(INCLUSO',\n",
       " 'LA',\n",
       " 'MALOCLUSIÓN)',\n",
       " 'DISCREPANCIA',\n",
       " 'DENTOMAXILAR']"
      ]
     },
     "execution_count": 10,
     "metadata": {},
     "output_type": "execute_result"
    }
   ],
   "source": [
    "spanish_diagnostics_normalized[0][\"text\"].split()"
   ]
  },
  {
   "attachments": {},
   "cell_type": "markdown",
   "metadata": {},
   "source": [
    "Al aplicar el mismo métodos podemos observar que no funciona totalmente bien debido a la presencia de caracteres no alfabéticos. Para solucionar esto, existen métodos basados en una serie de reglas para solucionar estos problemas. Utilizaremos la implementación de un tokenizador basado en reglas de la biblioteca de procesamiento de lenguaje natural Spacy."
   ]
  },
  {
   "cell_type": "code",
   "execution_count": 11,
   "metadata": {},
   "outputs": [],
   "source": [
    "spacy_tokenizer = es_core_news_sm.load().tokenizer"
   ]
  },
  {
   "cell_type": "code",
   "execution_count": 12,
   "metadata": {},
   "outputs": [
    {
     "data": {
      "text/plain": [
       "[-,\n",
       " ANOMALÍAS,\n",
       " DENTOFACIALES,\n",
       " (,\n",
       " INCLUSO,\n",
       " LA,\n",
       " MALOCLUSIÓN,\n",
       " ),\n",
       " \n",
       " \n",
       " \n",
       "  ,\n",
       " DISCREPANCIA,\n",
       " DENTOMAXILAR]"
      ]
     },
     "execution_count": 12,
     "metadata": {},
     "output_type": "execute_result"
    }
   ],
   "source": [
    "list(spacy_tokenizer(spanish_diagnostics_normalized[0][\"text\"]))"
   ]
  },
  {
   "attachments": {},
   "cell_type": "markdown",
   "metadata": {},
   "source": [
    "Al utilizar el tokenizador basado en reglas, podemos tener resultados mucho mejores que los anteriores."
   ]
  },
  {
   "attachments": {},
   "cell_type": "markdown",
   "metadata": {},
   "source": [
    "### 🤗 Tokenizers"
   ]
  },
  {
   "attachments": {},
   "cell_type": "markdown",
   "metadata": {},
   "source": [
    "🤗 también cuenta con una biblioteca llamada Tokenizers, con la cual podemos construir nuestro tokenizador basado en nuestro conjunto de datos."
   ]
  },
  {
   "attachments": {},
   "cell_type": "markdown",
   "metadata": {},
   "source": [
    "Instanciamos el tokenizador con un modelo WordPiece, el cual parte construyendo un vocabulario que incluye todas los caracteres presentes en el conjunto de datos y posteriormente comienza a mezclar caracteres hasta encontrar conjuntos de caracteres que tienen más probabilidad de aparecer juntos que separados."
   ]
  },
  {
   "cell_type": "code",
   "execution_count": 13,
   "metadata": {},
   "outputs": [],
   "source": [
    "tokenizer = tokenizers.Tokenizer(tokenizers.models.WordPiece())"
   ]
  },
  {
   "attachments": {},
   "cell_type": "markdown",
   "metadata": {},
   "source": [
    "Esta biblioteca nos permite añadir pasos de normalización directamente. Replicamos lo mismo que hacemos con nuestra función `normalizer()`."
   ]
  },
  {
   "cell_type": "code",
   "execution_count": 14,
   "metadata": {},
   "outputs": [],
   "source": [
    "normalizer = tokenizers.normalizers.Sequence([\n",
    "    tokenizers.normalizers.Lowercase(),  # Llevamos todo a minúscula\n",
    "    # Separamos cada caracter según los elementos que lo componen: á -> (a, ´)\n",
    "    tokenizers.normalizers.NFD(),\n",
    "    tokenizers.normalizers.StripAccents(),  # Eliminamos todos los acentos\n",
    "    # Reemplazamos todos los caracteres no alfabéticos\n",
    "    tokenizers.normalizers.Replace(tokenizers.Regex(r\"[^a-z ]\"), \" \")\n",
    "])"
   ]
  },
  {
   "cell_type": "code",
   "execution_count": 15,
   "metadata": {},
   "outputs": [
    {
     "data": {
      "text/plain": [
       "'  anomalias dentofaciales  incluso la maloclusion     discrepancia dentomaxilar'"
      ]
     },
     "execution_count": 15,
     "metadata": {},
     "output_type": "execute_result"
    }
   ],
   "source": [
    "normalizer.normalize_str(spanish_diagnostics_normalized[0][\"text\"])"
   ]
  },
  {
   "attachments": {},
   "cell_type": "markdown",
   "metadata": {},
   "source": [
    "Añadimos el normalizador al tokenizador"
   ]
  },
  {
   "cell_type": "code",
   "execution_count": 16,
   "metadata": {},
   "outputs": [],
   "source": [
    "tokenizer.normalizer = normalizer"
   ]
  },
  {
   "attachments": {},
   "cell_type": "markdown",
   "metadata": {},
   "source": [
    "Pre tokenizamos nuestro conjunto de datos mediante espacio para delimitar el tamaño que puede tener cada token."
   ]
  },
  {
   "cell_type": "code",
   "execution_count": 17,
   "metadata": {},
   "outputs": [],
   "source": [
    "tokenizer.pre_tokenizer = tokenizers.pre_tokenizers.Whitespace()"
   ]
  },
  {
   "attachments": {},
   "cell_type": "markdown",
   "metadata": {},
   "source": [
    "Instanciamos el entrenador que entrenará nuestro tokenizador."
   ]
  },
  {
   "cell_type": "code",
   "execution_count": 18,
   "metadata": {},
   "outputs": [],
   "source": [
    "trainer = tokenizers.trainers.WordPieceTrainer()"
   ]
  },
  {
   "attachments": {},
   "cell_type": "markdown",
   "metadata": {},
   "source": [
    "Entrenamos el tokenizador sobre nuestro conjunto de datos."
   ]
  },
  {
   "cell_type": "code",
   "execution_count": 19,
   "metadata": {},
   "outputs": [
    {
     "name": "stdout",
     "output_type": "stream",
     "text": [
      "\n",
      "\n",
      "\n"
     ]
    }
   ],
   "source": [
    "tokenizer.train_from_iterator(spanish_diagnostics_normalized[\"text\"], trainer)"
   ]
  },
  {
   "attachments": {},
   "cell_type": "markdown",
   "metadata": {},
   "source": [
    "Mediante el método `Tokenizer.encode()` obtenemos la representación tokenizada de nuesto texto. Esta representación contiene varios atributos, donde los más interesantes son:\n",
    "\n",
    "- `ids`: Contiene nuestro texto representado a través de una lista que contiene los identificadores de cada token.\n",
    "- `tokens`: Contiene nuestro texto representado a través de una lista que contiene el texto de cada token."
   ]
  },
  {
   "cell_type": "code",
   "execution_count": 20,
   "metadata": {},
   "outputs": [
    {
     "data": {
      "text/plain": [
       "'- ANOMALÍAS DENTOFACIALES (INCLUSO LA MALOCLUSIÓN)\\n\\n\\n DISCREPANCIA DENTOMAXILAR'"
      ]
     },
     "execution_count": 20,
     "metadata": {},
     "output_type": "execute_result"
    }
   ],
   "source": [
    "spanish_diagnostics_normalized[0][\"text\"]"
   ]
  },
  {
   "cell_type": "code",
   "execution_count": 21,
   "metadata": {},
   "outputs": [],
   "source": [
    "tokenized_output = tokenizer.encode(spanish_diagnostics_normalized[0][\"text\"])"
   ]
  },
  {
   "cell_type": "code",
   "execution_count": 22,
   "metadata": {},
   "outputs": [
    {
     "data": {
      "text/plain": [
       "{'hirat': 22849,\n",
       " 'fun': 8799,\n",
       " '##ilit': 716,\n",
       " 'espind': 18084,\n",
       " 'crepitacion': 5609,\n",
       " 'pulpalgia': 18213,\n",
       " '##entomaxilar': 17602,\n",
       " '##nan': 24155,\n",
       " '##esiona': 18491,\n",
       " 'contaminado': 21448,\n",
       " '##fue': 17492,\n",
       " 'correcta': 5250,\n",
       " '##rx': 17303,\n",
       " 'dl': 1440,\n",
       " 'alterado': 3302,\n",
       " 'saber': 9269,\n",
       " 'superir': 11653,\n",
       " 'pulper': 27631,\n",
       " 'somet': 7468,\n",
       " 'biopsiado': 13899,\n",
       " 'obbs': 27022,\n",
       " 'insulinorrequiriente': 13496,\n",
       " 'subclases': 21798,\n",
       " 'consecutivos': 16078,\n",
       " '##versdion': 28854,\n",
       " 'vvi': 14244,\n",
       " '##ilar': 229,\n",
       " '##yl': 14387,\n",
       " 'emp': 4504,\n",
       " 'marzo': 4961,\n",
       " 'inoclusion': 7572,\n",
       " '##jeto': 15753,\n",
       " 'esternosis': 16523,\n",
       " 'hrt': 4307,\n",
       " 'capucho': 21387,\n",
       " 'despulpado': 8548,\n",
       " 'aricular': 28515,\n",
       " 'sociable': 23382,\n",
       " 'defecit': 21162,\n",
       " '##isfuncion': 25252,\n",
       " 'concordancia': 20153,\n",
       " 'neuritis': 7351,\n",
       " 'incapacitante': 13930,\n",
       " 'bor': 11030,\n",
       " 'trasera': 18548,\n",
       " 'dfecto': 21502,\n",
       " 'semis': 10376,\n",
       " '##iscopatia': 13488,\n",
       " 'infrapat': 20501,\n",
       " 'faltan': 11556,\n",
       " 'duras': 15644,\n",
       " 'gastos': 19102,\n",
       " '##eb': 685,\n",
       " 'partio': 19971,\n",
       " 'presemnta': 28291,\n",
       " 'intrator': 11761,\n",
       " '##terigion': 9579,\n",
       " 'trauamt': 15197,\n",
       " 'cariesmesio': 27894,\n",
       " 'prostatismo': 8557,\n",
       " 'dnb': 22621,\n",
       " 'rabdom': 23316,\n",
       " '##llas': 23884,\n",
       " '##cinoma': 1956,\n",
       " 'aortico': 4738,\n",
       " 'aseptica': 4089,\n",
       " 'ist': 11698,\n",
       " 'esfinteres': 21091,\n",
       " '##zaa': 26087,\n",
       " 'intermedio': 19838,\n",
       " 'gle': 16960,\n",
       " '##romaxilar': 18669,\n",
       " 'economicos': 10970,\n",
       " '##oquina': 6010,\n",
       " 'someter': 20971,\n",
       " 'extrem': 1282,\n",
       " '##phy': 10849,\n",
       " 'ceja': 7873,\n",
       " 'farm': 3090,\n",
       " 'periodontisis': 14850,\n",
       " 'vasocelular': 15750,\n",
       " '##ocial': 8344,\n",
       " 'geniano': 15031,\n",
       " 'lie': 22942,\n",
       " 'irrit': 2178,\n",
       " 'multiples': 779,\n",
       " 'usus': 10467,\n",
       " 'litisis': 23008,\n",
       " 'apnc': 26528,\n",
       " '##inop': 6962,\n",
       " 'cyncer': 16764,\n",
       " 'desajustada': 1456,\n",
       " '##iertan': 27240,\n",
       " 'bimaxilar': 1206,\n",
       " '##ium': 5648,\n",
       " '##hip': 3393,\n",
       " 'lipot': 4847,\n",
       " '##pion': 17447,\n",
       " 'nopaciente': 27315,\n",
       " '##efr': 18904,\n",
       " '##icacardiopatia': 25115,\n",
       " '##iastasia': 27844,\n",
       " '##ilizante': 26174,\n",
       " 'cst': 22546,\n",
       " '##mapatia': 24131,\n",
       " 'at': 545,\n",
       " 'oh': 2297,\n",
       " 'franca': 5001,\n",
       " 'frag': 6641,\n",
       " 'sencible': 13802,\n",
       " 'c': 2,\n",
       " 'atipia': 10669,\n",
       " '##gan': 1719,\n",
       " 'otorga': 20196,\n",
       " 'imposibilidad': 5366,\n",
       " 'jones': 14128,\n",
       " '##ntrica': 12532,\n",
       " 'ejercicios': 12067,\n",
       " 'anc': 7588,\n",
       " '##um': 159,\n",
       " 'hidrocele': 2747,\n",
       " '##rigion': 23982,\n",
       " '##iescasia': 27694,\n",
       " 'desprend': 3934,\n",
       " 'palp': 999,\n",
       " 'sonris': 11807,\n",
       " 'gingibitis': 16349,\n",
       " 'resequedad': 29357,\n",
       " 'perdido': 10510,\n",
       " 'aimpl': 16852,\n",
       " '##enter': 3506,\n",
       " 'enfermeria': 29708,\n",
       " '##zop': 24529,\n",
       " 'bit': 22445,\n",
       " 'molra': 19578,\n",
       " 'presuntivo': 16246,\n",
       " 'fus': 16937,\n",
       " 'beningo': 13166,\n",
       " 'potencialmente': 21878,\n",
       " 'mesenter': 8453,\n",
       " 'arica': 18431,\n",
       " 'hipert': 2216,\n",
       " 'extrusiva': 10452,\n",
       " 'acalasia': 9600,\n",
       " 'ria': 6662,\n",
       " 'sapu': 5375,\n",
       " 'trasornos': 29004,\n",
       " 'desajustes': 10544,\n",
       " 'fremito': 28992,\n",
       " 'wenc': 23560,\n",
       " 'incision': 9077,\n",
       " 'verruc': 6744,\n",
       " 'tricuspidea': 7818,\n",
       " '##ding': 23639,\n",
       " 'segmentaria': 13757,\n",
       " 'mellitus': 1269,\n",
       " 'dentomaxilares': 3059,\n",
       " '##oleve': 25820,\n",
       " '##icad': 12555,\n",
       " 'renal': 644,\n",
       " 'mem': 2433,\n",
       " 'perturbacion': 12276,\n",
       " 'apinamientodental': 28646,\n",
       " 'psiquiatricos': 20951,\n",
       " '##axona': 28305,\n",
       " 'especificadomal': 20987,\n",
       " 'dislipid': 7363,\n",
       " 'trst': 14627,\n",
       " '##erectomia': 14414,\n",
       " 'sotero': 16776,\n",
       " 'omb': 11101,\n",
       " 'monorrena': 8221,\n",
       " 'impactadoscanino': 22324,\n",
       " '##hen': 17496,\n",
       " 'todas': 5929,\n",
       " '##isirreversible': 25260,\n",
       " 'deto': 11218,\n",
       " 'enfermedada': 18682,\n",
       " '##jen': 14404,\n",
       " '##undida': 10337,\n",
       " 'bicuspide': 15935,\n",
       " 'inyect': 17805,\n",
       " 'god': 22739,\n",
       " '##gada': 7541,\n",
       " '##ecrosis': 5833,\n",
       " 'oval': 9075,\n",
       " 'mirada': 16302,\n",
       " '##oriap': 25436,\n",
       " '##ticas': 6428,\n",
       " 'irrevrsible': 13835,\n",
       " '##iad': 3586,\n",
       " 'alveolares': 15429,\n",
       " 'citas': 22542,\n",
       " 'regmatogeno': 19229,\n",
       " 'vervico': 23546,\n",
       " 'claritromicina': 16462,\n",
       " 'adenomegalia': 11848,\n",
       " 'mms': 11626,\n",
       " '##ierto': 2435,\n",
       " 'hipopigmentadas': 16262,\n",
       " 'actual': 935,\n",
       " 'circulatorias': 13728,\n",
       " 'inguinalhernia': 15421,\n",
       " 'subcondral': 21691,\n",
       " 'unica': 7054,\n",
       " 'empu': 13547,\n",
       " 'semiincluido': 2931,\n",
       " 'hipotiroid': 4291,\n",
       " '##ione': 10250,\n",
       " 'cintig': 12218,\n",
       " '##uocular': 23838,\n",
       " 'desequilibrio': 16505,\n",
       " 'pilaris': 20118,\n",
       " 'eadad': 22668,\n",
       " 'erctil': 19668,\n",
       " '##olectasias': 25821,\n",
       " '##actismo': 28181,\n",
       " 'anis': 8921,\n",
       " '##zuel': 24535,\n",
       " 'bult': 22459,\n",
       " 'periodonditis': 13313,\n",
       " 'clae': 11847,\n",
       " 'resecado': 13886,\n",
       " 'objetivos': 20632,\n",
       " '##etoma': 28862,\n",
       " 'disaf': 28137,\n",
       " '##yendo': 6953,\n",
       " 'hemorrngica': 21565,\n",
       " 'incluasiones': 29682,\n",
       " '##dopa': 14619,\n",
       " '##iq': 12444,\n",
       " 'pigment': 3457,\n",
       " 'pele': 23207,\n",
       " 'abultamiento': 12280,\n",
       " '##quito': 27120,\n",
       " '##idial': 25747,\n",
       " 'colecistectomia': 4471,\n",
       " '##utica': 23818,\n",
       " 'consulta': 1103,\n",
       " 'fibromalgia': 19805,\n",
       " 'exostosis': 6251,\n",
       " 'taner': 21736,\n",
       " 'keneddy': 9741,\n",
       " '##evera': 24029,\n",
       " 'cefalico': 13058,\n",
       " 'apico': 17911,\n",
       " 'agens': 29153,\n",
       " '##sis': 4419,\n",
       " 'frias': 18540,\n",
       " '##endario': 18855,\n",
       " 'esfuer': 1681,\n",
       " 'pulpitism': 28707,\n",
       " 'policont': 7042,\n",
       " 'onf': 19800,\n",
       " 'mieloide': 22050,\n",
       " 'enviada': 16061,\n",
       " '##oncopulmonar': 6019,\n",
       " '##ec': 74,\n",
       " '##amitis': 26000,\n",
       " '##ciar': 23736,\n",
       " 'inac': 26052,\n",
       " 'apres': 26522,\n",
       " 'stav': 23386,\n",
       " 'ocluso': 3353,\n",
       " 'fevi': 10958,\n",
       " 'perteneciente': 21440,\n",
       " '##clonal': 18098,\n",
       " '##uria': 1305,\n",
       " 'pisada': 17103,\n",
       " '##brales': 24721,\n",
       " '##androgen': 10565,\n",
       " 'comprend': 12832,\n",
       " '##ondritis': 15369,\n",
       " 'cfii': 15821,\n",
       " 'congelado': 16483,\n",
       " 'pacienre': 21238,\n",
       " '##olor': 234,\n",
       " 'peridontitis': 3154,\n",
       " 'aconc': 28818,\n",
       " '##sicional': 24321,\n",
       " 'reevaluar': 11972,\n",
       " 'intran': 19811,\n",
       " 'asmatica': 7639,\n",
       " '##hacusia': 24645,\n",
       " '##iform': 4028,\n",
       " '##grupo': 15110,\n",
       " 'atopia': 8741,\n",
       " '##vamente': 24493,\n",
       " 'tor': 1107,\n",
       " 'protesisag': 28686,\n",
       " 'pticas': 19695,\n",
       " '##urona': 26737,\n",
       " 'somat': 6201,\n",
       " 'multip': 523,\n",
       " '##quiera': 28296,\n",
       " '##estomia': 29076,\n",
       " 'solciita': 13795,\n",
       " 'hcm': 11938,\n",
       " '##ofag': 1078,\n",
       " 'artralgias': 6507,\n",
       " '##ueta': 19427,\n",
       " '##tible': 4131,\n",
       " '##ortancia': 19329,\n",
       " 'bartolino': 10879,\n",
       " 'unilocular': 22023,\n",
       " '##anep': 25959,\n",
       " 'inestabilidad': 3381,\n",
       " 'xerotica': 13742,\n",
       " 'dentafacial': 16787,\n",
       " 'palatinizacion': 13467,\n",
       " 'sospecho': 15264,\n",
       " 'desedentada': 17936,\n",
       " '##giere': 24363,\n",
       " 'erupcinn': 8169,\n",
       " 'visto': 8051,\n",
       " 'salvador': 16633,\n",
       " 'malf': 28563,\n",
       " 'enferior': 18598,\n",
       " 'eupne': 6623,\n",
       " 'brutsismo': 22291,\n",
       " '##aclase': 25311,\n",
       " 'sintom': 7354,\n",
       " '##antorio': 18325,\n",
       " '##iella': 13464,\n",
       " '##uior': 17279,\n",
       " 'intrat': 11760,\n",
       " '##putren': 24474,\n",
       " '##onitor': 25397,\n",
       " '##acia': 2319,\n",
       " '##ihiperplasia': 23701,\n",
       " 'tracion': 17887,\n",
       " 'reun': 12645,\n",
       " 'discretamente': 14044,\n",
       " 'presecia': 18366,\n",
       " 'neomort': 18718,\n",
       " 'visualizan': 19327,\n",
       " 'gang': 14106,\n",
       " 'recien': 3765,\n",
       " 'valv': 1352,\n",
       " 'orlit': 29666,\n",
       " '##tiasis': 14316,\n",
       " 'lop': 22949,\n",
       " 'tinitus': 2938,\n",
       " 'htaecu': 29192,\n",
       " 'permanentetaco': 15552,\n",
       " '##icitico': 28293,\n",
       " 'fisia': 13080,\n",
       " 'nmp': 23097,\n",
       " 'ekg': 5249,\n",
       " '##irgomalacia': 28738,\n",
       " 'ilog': 17001,\n",
       " 'cm': 1148,\n",
       " '##idnitis': 25789,\n",
       " 'espond': 18083,\n",
       " 'tt': 3099,\n",
       " 'incomple': 3255,\n",
       " 'eg': 3493,\n",
       " 'estimulos': 11994,\n",
       " 'ipsilaterales': 21909,\n",
       " 'realizarn': 18810,\n",
       " 'radiolucidez': 20182,\n",
       " 'rtica': 17115,\n",
       " '##amb': 2016,\n",
       " 'convergente': 6371,\n",
       " 'pertinente': 6904,\n",
       " 'observado': 15232,\n",
       " 'dienteadm': 28679,\n",
       " 'vinc': 7907,\n",
       " '##roc': 1091,\n",
       " '##hid': 3185,\n",
       " '##ixta': 18985,\n",
       " 'sinbul': 27804,\n",
       " 'componente': 10398,\n",
       " 'endododnticamente': 22117,\n",
       " 'refrotox': 29050,\n",
       " 'subsecuente': 20949,\n",
       " 'neirosos': 29857,\n",
       " '##auricular': 5810,\n",
       " 'fst': 22711,\n",
       " 'nde': 12377,\n",
       " 'finas': 16949,\n",
       " '##enta': 2061,\n",
       " '##ive': 9525,\n",
       " 'midiendo': 20964,\n",
       " 'gut': 10132,\n",
       " 'portraumat': 27291,\n",
       " 'inmersion': 19742,\n",
       " '##lados': 23882,\n",
       " 'examinar': 12117,\n",
       " '##raneana': 7180,\n",
       " 'tup': 9416,\n",
       " 'podemos': 20064,\n",
       " 'motilidad': 13252,\n",
       " 'pve': 23206,\n",
       " '##onimal': 25389,\n",
       " '##tinencia': 5536,\n",
       " '##uciones': 10445,\n",
       " '##upete': 26456,\n",
       " '##xodoncia': 9448,\n",
       " 'ecoestruc': 13156,\n",
       " 'paln': 18895,\n",
       " 'logrado': 16286,\n",
       " 'coincidentes': 9258,\n",
       " 'borroso': 20413,\n",
       " 'down': 2110,\n",
       " 'transtorno': 2654,\n",
       " 'renovacion': 13733,\n",
       " 'espontaneamente': 22072,\n",
       " 'sueno': 2090,\n",
       " 'dic': 2597,\n",
       " '##gival': 24374,\n",
       " 'actualizadas': 19304,\n",
       " 'colag': 18732,\n",
       " '##vesicular': 11941,\n",
       " 'azar': 22425,\n",
       " 'disrrafia': 16388,\n",
       " 'propia': 12704,\n",
       " '##tricos': 8907,\n",
       " 'mulnt': 21421,\n",
       " 'entretencion': 19465,\n",
       " 'apciente': 26538,\n",
       " 'constante': 4151,\n",
       " '##fil': 7935,\n",
       " 'ttra': 23423,\n",
       " 'corta': 4540,\n",
       " '##eridona': 12544,\n",
       " 'papilomatosis': 10679,\n",
       " '##opl': 18418,\n",
       " 'hidrocefalia': 4169,\n",
       " 'variedad': 13055,\n",
       " 'tca': 9418,\n",
       " 'operculo': 15214,\n",
       " 'preg': 6711,\n",
       " 'kerat': 22928,\n",
       " 'arroja': 12819,\n",
       " '##sinusitis': 24327,\n",
       " 'fresa': 28986,\n",
       " 'laber': 15296,\n",
       " '##acu': 5542,\n",
       " 'molesto': 19580,\n",
       " 'siete': 14217,\n",
       " 'perenne': 14836,\n",
       " 'arreglo': 28542,\n",
       " 'cnnica': 16902,\n",
       " 'figu': 22701,\n",
       " 'digo': 16913,\n",
       " 'tubulointers': 22065,\n",
       " 'koyanag': 22166,\n",
       " '##omicos': 26218,\n",
       " 'trasversa': 29009,\n",
       " 'mordidas': 9852,\n",
       " '##iosarcoma': 18754,\n",
       " 'parabertebral': 22251,\n",
       " 'tengo': 15579,\n",
       " 'desjas': 26583,\n",
       " 'exceso': 7598,\n",
       " 'dentinc': 26809,\n",
       " '##ametas': 10286,\n",
       " 'trepancion': 18374,\n",
       " 'dvo': 16915,\n",
       " '##verso': 18512,\n",
       " 'pnte': 23212,\n",
       " 'irregularmente': 19863,\n",
       " '##lucida': 20081,\n",
       " '##acust': 25286,\n",
       " 'grado': 752,\n",
       " 'naso': 12380,\n",
       " 'enfemedades': 22006,\n",
       " 'semiincluida': 1122,\n",
       " '##acinn': 1196,\n",
       " '##dentales': 12665,\n",
       " 'comunicar': 20045,\n",
       " 'trepanda': 7620,\n",
       " '##omet': 26215,\n",
       " 'desajustado': 11690,\n",
       " 'several': 29240,\n",
       " 'tiroideo': 1636,\n",
       " 'oticas': 19387,\n",
       " 'requieren': 5890,\n",
       " 'tie': 17154,\n",
       " 'sufrido': 10023,\n",
       " 'ba': 3545,\n",
       " 'lactante': 3684,\n",
       " 'comienza': 6882,\n",
       " 'inespecificos': 13803,\n",
       " '##itiasica': 25670,\n",
       " 'izquerdo': 5359,\n",
       " '##ectasias': 10021,\n",
       " 'zuniga': 22187,\n",
       " 'obsceso': 14752,\n",
       " 'contata': 29318,\n",
       " '##fisi': 24600,\n",
       " '##ecnian': 25739,\n",
       " 'mord': 2822,\n",
       " '##onial': 25370,\n",
       " '##uricemia': 17973,\n",
       " '##ticia': 14322,\n",
       " '##ifico': 3300,\n",
       " 'progenica': 7595,\n",
       " '##vestibulo': 24515,\n",
       " 'tartaro': 2355,\n",
       " 'munecas': 7097,\n",
       " 'muneca': 1766,\n",
       " 'transm': 6536,\n",
       " 'significativos': 13561,\n",
       " '##alzgos': 25010,\n",
       " 'mismos': 14158,\n",
       " 'aranas': 18439,\n",
       " 'abras': 18468,\n",
       " 'aprovente': 26549,\n",
       " 'remitido': 4882,\n",
       " '##uriz': 26729,\n",
       " 'erupcionan': 12943,\n",
       " 'foram': 4680,\n",
       " '##onegativa': 8259,\n",
       " 'victima': 13740,\n",
       " '##reico': 18244,\n",
       " 'abortos': 7847,\n",
       " 'hemorragia': 1668,\n",
       " 'dial': 11045,\n",
       " '##itisis': 11312,\n",
       " '##tens': 500,\n",
       " 'necrosia': 16250,\n",
       " 'distolica': 20174,\n",
       " '##iogra': 14418,\n",
       " 'tomando': 5756,\n",
       " 'pericoronartis': 21806,\n",
       " 'osteocondrodis': 13484,\n",
       " '##sartrosis': 24305,\n",
       " 'pronost': 20703,\n",
       " '##isemia': 25231,\n",
       " '##etas': 2323,\n",
       " 'reapar': 10305,\n",
       " 'duodenitis': 4661,\n",
       " 'brucismo': 21804,\n",
       " 'cefal': 771,\n",
       " 'ptor': 23194,\n",
       " 'tirotox': 5773,\n",
       " 'mitad': 15623,\n",
       " 'aspiracion': 13566,\n",
       " '##ertura': 1592,\n",
       " 'habituales': 10767,\n",
       " 'subl': 1705,\n",
       " '##onico': 3433,\n",
       " 'irreble': 29367,\n",
       " 'cedio': 12055,\n",
       " 'proteica': 15751,\n",
       " 'piez': 5667,\n",
       " 'irreversib': 13603,\n",
       " 'posee': 4437,\n",
       " 'dijo': 13089,\n",
       " 'conductuales': 9887,\n",
       " 'amiloidosis': 16812,\n",
       " '##zta': 24527,\n",
       " 'mantenia': 19945,\n",
       " 'tapon': 2974,\n",
       " 'tratamientoendo': 28705,\n",
       " 'copia': 15979,\n",
       " 'pezon': 6798,\n",
       " 'monorreno': 8220,\n",
       " 'salu': 9411,\n",
       " 'bajos': 13131,\n",
       " 'lamotrigina': 22118,\n",
       " 'puntada': 11825,\n",
       " '##randose': 11969,\n",
       " '##faciales': 21287,\n",
       " 'dependencia': 3999,\n",
       " 'radiologico': 6610,\n",
       " 'ininter': 26070,\n",
       " '##duccion': 18884,\n",
       " 'presb': 1801,\n",
       " 'ingerior': 20552,\n",
       " 'fvaor': 22156,\n",
       " 'volv': 15398,\n",
       " '##idiario': 25775,\n",
       " 'alcoholica': 7410,\n",
       " '##udiolog': 4629,\n",
       " '##descartar': 22189,\n",
       " '##inos': 749,\n",
       " '##ono': 1617,\n",
       " 'semiincluidas': 1713,\n",
       " 'empcion': 20655,\n",
       " 'rubi': 21282,\n",
       " 'dipl': 7165,\n",
       " 'pasado': 6845,\n",
       " 'neocrosis': 29855,\n",
       " 'infert': 18013,\n",
       " 'endof': 18569,\n",
       " 'dem': 1734,\n",
       " 'metafisis': 16576,\n",
       " 'mida': 23018,\n",
       " 'pacent': 26634,\n",
       " 'fusiforme': 22154,\n",
       " 'disantononia': 28165,\n",
       " 'dializa': 21602,\n",
       " 'micotica': 8720,\n",
       " '##cialidad': 18165,\n",
       " 'focales': 10130,\n",
       " '##ost': 805,\n",
       " 'congenito': 3148,\n",
       " 'aprendis': 13549,\n",
       " '##nguaje': 24229,\n",
       " '##ide': 809,\n",
       " '##omax': 26214,\n",
       " 'euc': 22637,\n",
       " 'grun': 28461,\n",
       " 'varo': 4215,\n",
       " 'afec': 13276,\n",
       " 'gastroesofagicas': 20183,\n",
       " '##ocig': 18386,\n",
       " '##eth': 14952,\n",
       " 'izquer': 3626,\n",
       " 'diciembre': 7401,\n",
       " '##dow': 12649,\n",
       " '##was': 24141,\n",
       " 'ampolla': 9278,\n",
       " 'comisura': 5430,\n",
       " 'encarnada': 8091,\n",
       " 'espinoso': 14722,\n",
       " 'programada': 13782,\n",
       " 'enzimas': 14557,\n",
       " 'anestecia': 14687,\n",
       " 'hematies': 9113,\n",
       " 'quiste': 502,\n",
       " '##entrante': 9088,\n",
       " '##bol': 14394,\n",
       " 'h': 7,\n",
       " 'abundantes': 13858,\n",
       " 'sensorioneural': 13941,\n",
       " 'antibioticos': 6596,\n",
       " 'miope': 16418,\n",
       " 'circunstancia': 21875,\n",
       " '##gnostico': 24388,\n",
       " '##isible': 25223,\n",
       " 'chal': 15425,\n",
       " 'directa': 3487,\n",
       " '##let': 9535,\n",
       " 'demanda': 12270,\n",
       " 'osteoma': 15338,\n",
       " 'aav': 22406,\n",
       " '##zematosa': 24549,\n",
       " 'ad': 347,\n",
       " 'dispon': 7765,\n",
       " 'snt': 17128,\n",
       " 'planp': 15809,\n",
       " 'desplazamientos': 9861,\n",
       " '##opastia': 18425,\n",
       " 'paranas': 6030,\n",
       " 'protruye': 13901,\n",
       " 'carnet': 14715,\n",
       " 'irradiando': 20038,\n",
       " 'radiculares': 2327,\n",
       " 'mopr': 17055,\n",
       " 'ug': 8831,\n",
       " 'fecales': 20842,\n",
       " '##idco': 25756,\n",
       " 'ampol': 5911,\n",
       " 'supurativas': 6135,\n",
       " 'uf': 14233,\n",
       " '##oeratorio': 24269,\n",
       " 'salpingo': 13668,\n",
       " 'evaluada': 3219,\n",
       " 'hemorr': 10545,\n",
       " 'amigdali': 19222,\n",
       " 'reiodontitis': 26353,\n",
       " 'solplo': 28075,\n",
       " 'lever': 15270,\n",
       " 'graf': 28472,\n",
       " 'compenzada': 28778,\n",
       " '##trocon': 29648,\n",
       " 'apinamientos': 8643,\n",
       " 'suprad': 26915,\n",
       " '##tiis': 12000,\n",
       " 'veruga': 16562,\n",
       " '##itente': 10263,\n",
       " 'postulacion': 18923,\n",
       " 'cordal': 13634,\n",
       " 'radia': 29939,\n",
       " 'ganchos': 21061,\n",
       " '##pxicilina': 24475,\n",
       " 'eap': 10127,\n",
       " 'bota': 21267,\n",
       " 'hipos': 10367,\n",
       " 'organos': 2934,\n",
       " '##mucocele': 24134,\n",
       " '##anas': 3435,\n",
       " 'boprrosa': 22140,\n",
       " 'say': 23348,\n",
       " 'derechaex': 29232,\n",
       " '##age': 18755,\n",
       " '##ermedades': 20802,\n",
       " 'desdenatada': 9913,\n",
       " '##tear': 11367,\n",
       " 'estrecha': 8093,\n",
       " '##isc': 3755,\n",
       " '##orl': 7945,\n",
       " 'ater': 4586,\n",
       " 'impactado': 1871,\n",
       " 'sinding': 18890,\n",
       " 'chagasica': 20322,\n",
       " 'disoides': 28142,\n",
       " 'eruccion': 18593,\n",
       " 'evaluacion': 280,\n",
       " 'deforma': 19750,\n",
       " 'sincicial': 27807,\n",
       " 'min': 2046,\n",
       " 'mallor': 18448,\n",
       " 'cigomatico': 13552,\n",
       " 'alguno': 20305,\n",
       " 'soluion': 28070,\n",
       " 'aapnea': 22432,\n",
       " '##odactilia': 9550,\n",
       " 'completa': 1438,\n",
       " 'lobulo': 3636,\n",
       " 'complet': 6294,\n",
       " 'kennedy': 1262,\n",
       " 'dermico': 9200,\n",
       " 'difin': 19723,\n",
       " '##itris': 12032,\n",
       " '##mete': 24118,\n",
       " 'filtrado': 16415,\n",
       " '##meta': 24117,\n",
       " 'localizadas': 11665,\n",
       " '##tores': 7624,\n",
       " 'rnprt': 20339,\n",
       " 'posi': 12788,\n",
       " '##incis': 5451,\n",
       " 'nr': 12375,\n",
       " 'mitralfa': 15651,\n",
       " 'manopa': 18482,\n",
       " 'sobr': 1465,\n",
       " 'pie': 101,\n",
       " 'poline': 3767,\n",
       " '##uccion': 2334,\n",
       " '##madre': 21233,\n",
       " 'dentrio': 17988,\n",
       " 'obserbacion': 21646,\n",
       " 'iba': 17004,\n",
       " 'scol': 23372,\n",
       " '##oprepucial': 13980,\n",
       " 'mesiad': 29594,\n",
       " 'cinar': 16896,\n",
       " '##omoscopia': 26226,\n",
       " 'respectivo': 5314,\n",
       " '##ivadas': 26995,\n",
       " 'indico': 4213,\n",
       " 'apneas': 5627,\n",
       " 'recambio': 2484,\n",
       " 'lpae': 13627,\n",
       " 'erefraccion': 22675,\n",
       " '##tir': 24046,\n",
       " '##inat': 12587,\n",
       " 'gr': 240,\n",
       " 'perion': 14830,\n",
       " 'quinamiento': 27831,\n",
       " 'trigonitis': 20525,\n",
       " 'anion': 26842,\n",
       " '##ision': 1693,\n",
       " '##icula': 2133,\n",
       " 'ioz': 22879,\n",
       " '##olismo': 7569,\n",
       " '##iguracion': 18226,\n",
       " '##omamaria': 26245,\n",
       " 'insicivos': 12919,\n",
       " 'todo': 3876,\n",
       " 'noexamen': 27317,\n",
       " '##araquideo': 29624,\n",
       " 'periodicamente': 13312,\n",
       " '##uier': 23796,\n",
       " '##eld': 28246,\n",
       " '##asos': 4518,\n",
       " 'tratatamiento': 28044,\n",
       " '##ecia': 2422,\n",
       " '##wecha': 17385,\n",
       " 'hosp': 1369,\n",
       " '##ariedad': 17573,\n",
       " 'gastroesofagico': 2940,\n",
       " 'colocar': 9637,\n",
       " 'quirugico': 16441,\n",
       " 'enterocolitis': 11988,\n",
       " 'fuer': 2889,\n",
       " 'codos': 9124,\n",
       " 'tension': 3649,\n",
       " 'recurrentemente': 15341,\n",
       " '##ciom': 15628,\n",
       " 'mentr': 12371,\n",
       " 'prescribe': 16690,\n",
       " '##eng': 8886,\n",
       " 'clavulamico': 21858,\n",
       " 'disordante': 28147,\n",
       " 'hn': 11063,\n",
       " '##encop': 25592,\n",
       " 'dert': 14717,\n",
       " '##uento': 23826,\n",
       " 'gpen': 22780,\n",
       " 'kar': 17014,\n",
       " 'trpan': 26411,\n",
       " 'comisuras': 28456,\n",
       " 'epicondilitis': 5003,\n",
       " 'destal': 14646,\n",
       " 'cdt': 9239,\n",
       " '##kmente': 24791,\n",
       " 'poliartralgia': 5768,\n",
       " 'erupcin': 20318,\n",
       " '##renal': 4130,\n",
       " 'omd': 15706,\n",
       " 'mosaico': 16599,\n",
       " 'estricto': 19527,\n",
       " 'variable': 8228,\n",
       " 'castr': 22539,\n",
       " 'escencial': 9059,\n",
       " '##arativa': 25026,\n",
       " 'discrep': 9040,\n",
       " '##rofunda': 13304,\n",
       " '##arcan': 17574,\n",
       " 'ureterolitiasis': 13617,\n",
       " 'miosistis': 21915,\n",
       " '##ncias': 21190,\n",
       " 'abcs': 14929,\n",
       " 'grande': 3027,\n",
       " 'dilataciones': 15805,\n",
       " 'probelmas': 19483,\n",
       " 'subd': 3338,\n",
       " 'respirar': 7352,\n",
       " 'cristian': 16508,\n",
       " '##atiles': 25895,\n",
       " '##eprazol': 5157,\n",
       " 'usted': 18887,\n",
       " 'apalap': 26530,\n",
       " 'exodonc': 20879,\n",
       " 'elect': 15101,\n",
       " 'insuficin': 16065,\n",
       " 'alru': 27986,\n",
       " '##imizada': 14826,\n",
       " 'puberal': 11865,\n",
       " 'meb': 14152,\n",
       " 'gravis': 9925,\n",
       " 'hipomelanosis': 21363,\n",
       " 'vertibular': 13046,\n",
       " '##asacion': 25539,\n",
       " 'lupus': 3008,\n",
       " 'homogeneo': 21105,\n",
       " '##trual': 8906,\n",
       " '##icentrico': 25096,\n",
       " 'descendido': 3977,\n",
       " '##espondil': 13145,\n",
       " '##amotica': 26027,\n",
       " '##epatica': 19332,\n",
       " 'resliza': 29360,\n",
       " 'hel': 5529,\n",
       " 'pezas': 19697,\n",
       " 'importada': 20854,\n",
       " '##tesint': 28031,\n",
       " 'bula': 22465,\n",
       " '##uclusion': 23803,\n",
       " '##ilitis': 6979,\n",
       " '##so': 867,\n",
       " 'varicos': 3172,\n",
       " '##ictada': 25100,\n",
       " '##ha': 1720,\n",
       " 'diversos': 16575,\n",
       " 'hemolitica': 7321,\n",
       " 'terapeu': 12075,\n",
       " 'neun': 29835,\n",
       " 'alusion': 12772,\n",
       " 'susperior': 15959,\n",
       " 'melanosis': 10645,\n",
       " '##udizada': 28169,\n",
       " '##eresis': 17540,\n",
       " '##ologo': 2170,\n",
       " 'histocitosis': 19496,\n",
       " 'infraumbilical': 9215,\n",
       " '##otend': 18183,\n",
       " 'adilto': 29456,\n",
       " 'secundario': 2229,\n",
       " 'disminuido': 3347,\n",
       " 'hd': 2572,\n",
       " '##itiva': 1355,\n",
       " 'espe': 9537,\n",
       " '##inotomia': 25512,\n",
       " 'nopresenta': 27325,\n",
       " '##alacia': 24982,\n",
       " '##pie': 7543,\n",
       " 'debe': 3305,\n",
       " '##ismos': 4662,\n",
       " 'pliege': 21037,\n",
       " 'iniciada': 1450,\n",
       " '##kento': 24795,\n",
       " 'cariesa': 27892,\n",
       " '##icoronaritis': 8874,\n",
       " 'apunamiento': 7960,\n",
       " 'congenitas': 2665,\n",
       " 'apiogen': 17918,\n",
       " 'dnt': 22568,\n",
       " '##anicular': 25962,\n",
       " 'domiciliaria': 16206,\n",
       " 'parpardo': 21964,\n",
       " 'distiroidea': 20175,\n",
       " 'nparcial': 14171,\n",
       " 'adenoma': 3675,\n",
       " 'sumido': 21187,\n",
       " '##nido': 24168,\n",
       " 'polia': 9654,\n",
       " 'paracetamol': 4927,\n",
       " 'minut': 5337,\n",
       " 'glnndula': 11679,\n",
       " 'laespec': 26718,\n",
       " '##ormomo': 29724,\n",
       " '##ginoso': 24368,\n",
       " '##errugas': 24883,\n",
       " '##irosis': 12828,\n",
       " 'aldoster': 28002,\n",
       " 'pericoronart': 13028,\n",
       " '##enciada': 15923,\n",
       " '##axilar': 248,\n",
       " 'periorontales': 27705,\n",
       " '##as': 70,\n",
       " 'lis': 6649,\n",
       " '##incion': 3759,\n",
       " '##onstipacion': 15481,\n",
       " '##omesial': 12639,\n",
       " '##ogeriano': 28343,\n",
       " 'ovarica': 9128,\n",
       " 'disyn': 28140,\n",
       " 'x': 23,\n",
       " 'nuc': 2493,\n",
       " 'alrededor': 7610,\n",
       " 'antigeno': 10341,\n",
       " '##amacion': 17785,\n",
       " 'tempano': 18987,\n",
       " 'iferior': 13623,\n",
       " 'horizontalmente': 15582,\n",
       " 'contrl': 20436,\n",
       " '##pido': 24433,\n",
       " '##isual': 25225,\n",
       " 'prmat': 26763,\n",
       " 'femoropatelar': 12064,\n",
       " '##teraciones': 18401,\n",
       " 'mortinato': 6630,\n",
       " '##lhnp': 23917,\n",
       " 'psendo': 19242,\n",
       " '##eren': 24833,\n",
       " 'adolec': 9202,\n",
       " 'simp': 1808,\n",
       " '##aca': 1448,\n",
       " 'invol': 4386,\n",
       " '##ofalang': 13983,\n",
       " 'ingr': 1936,\n",
       " 'necoris': 29188,\n",
       " 'retauracion': 21956,\n",
       " '##regu': 27728,\n",
       " 'laringomalacia': 9811,\n",
       " 'inpl': 17804,\n",
       " 'curu': 19739,\n",
       " 'poli': 2021,\n",
       " '##otino': 27526,\n",
       " '##dientes': 8332,\n",
       " 'escole': 15308,\n",
       " 'traumatologo': 7715,\n",
       " '##oatia': 24247,\n",
       " 'confir': 1603,\n",
       " '##opsias': 12818,\n",
       " 'determina': 14027,\n",
       " 'monos': 14157,\n",
       " 'hipervascular': 12853,\n",
       " '##eparable': 27514,\n",
       " '##ordo': 11242,\n",
       " 'pad': 3428,\n",
       " 'intercurr': 19704,\n",
       " '##ruracion': 23953,\n",
       " 'pulsos': 4936,\n",
       " 'rompio': 13766,\n",
       " 'intemitente': 29121,\n",
       " '##ectable': 5741,\n",
       " 'reag': 14616,\n",
       " 'foruncul': 16091,\n",
       " 'bint': 22457,\n",
       " 'coag': 4837,\n",
       " '##roem': 26090,\n",
       " 'oido': 1309,\n",
       " 'espensor': 27180,\n",
       " 'localizada': 1827,\n",
       " 'evoluci': 10827,\n",
       " 'tdaa': 15529,\n",
       " 'gradual': 12182,\n",
       " 'linfonodular': 21386,\n",
       " '##ografico': 13612,\n",
       " '##ionadas': 25414,\n",
       " '##eza': 926,\n",
       " '##igia': 27657,\n",
       " 'similares': 13601,\n",
       " '##inatria': 25528,\n",
       " 'alcan': 7013,\n",
       " 'uropatia': 4337,\n",
       " 'celebra': 16654,\n",
       " '##onitis': 5658,\n",
       " 'infil': 10326,\n",
       " 'impactacion': 6748,\n",
       " 'palatinizadas': 13468,\n",
       " 'espnd': 18085,\n",
       " ...}"
      ]
     },
     "execution_count": 22,
     "metadata": {},
     "output_type": "execute_result"
    }
   ],
   "source": [
    "# Para ver todo el vocabulario del tonekizador consultar la siguiente funcion\n",
    "tokenizer.get_vocab()"
   ]
  },
  {
   "cell_type": "code",
   "execution_count": 23,
   "metadata": {},
   "outputs": [
    {
     "data": {
      "text/plain": [
       "[383, 618, 635, 119, 466, 1765, 970]"
      ]
     },
     "execution_count": 23,
     "metadata": {},
     "output_type": "execute_result"
    }
   ],
   "source": [
    "tokenized_output.ids"
   ]
  },
  {
   "cell_type": "code",
   "execution_count": 24,
   "metadata": {},
   "outputs": [
    {
     "data": {
      "text/plain": [
       "['anomalias',\n",
       " 'dentofaciales',\n",
       " 'incluso',\n",
       " 'la',\n",
       " 'maloclusion',\n",
       " 'discrepancia',\n",
       " 'dentomaxilar']"
      ]
     },
     "execution_count": 24,
     "metadata": {},
     "output_type": "execute_result"
    }
   ],
   "source": [
    "tokenized_output.tokens"
   ]
  },
  {
   "attachments": {},
   "cell_type": "markdown",
   "metadata": {},
   "source": [
    "Tal como lo hicimos anteriormente podemos aplicar paralelamente nuestro tokenizador sobre el conjunto de datos mediante el método `Dataset.map()`"
   ]
  },
  {
   "cell_type": "code",
   "execution_count": 25,
   "metadata": {},
   "outputs": [
    {
     "data": {
      "application/vnd.jupyter.widget-view+json": {
       "model_id": "ba2117ea93ad47c7b7f34ec013e20b08",
       "version_major": 2,
       "version_minor": 0
      },
      "text/plain": [
       "Map:   0%|          | 0/70000 [00:00<?, ? examples/s]"
      ]
     },
     "metadata": {},
     "output_type": "display_data"
    }
   ],
   "source": [
    "spanish_diagnostics_normalized_tokenized = spanish_diagnostics_normalized.map(\n",
    "    lambda x: {\"tokenized_text\": tokenizer.encode(x[\"text\"]).tokens})"
   ]
  },
  {
   "attachments": {},
   "cell_type": "markdown",
   "metadata": {},
   "source": [
    "Nuestro conjunto de datos ahora contiene el texto tokenizado en la característica `tokenized_text`."
   ]
  },
  {
   "cell_type": "code",
   "execution_count": 26,
   "metadata": {},
   "outputs": [
    {
     "data": {
      "text/plain": [
       "{'text': '- ANOMALÍAS DENTOFACIALES (INCLUSO LA MALOCLUSIÓN)\\n\\n\\n DISCREPANCIA DENTOMAXILAR',\n",
       " 'label': 1,\n",
       " 'normalized_text': '  anomalias dentofaciales  incluso la maloclusion     discrepancia dentomaxilar',\n",
       " 'tokenized_text': ['anomalias',\n",
       "  'dentofaciales',\n",
       "  'incluso',\n",
       "  'la',\n",
       "  'maloclusion',\n",
       "  'discrepancia',\n",
       "  'dentomaxilar']}"
      ]
     },
     "execution_count": 26,
     "metadata": {},
     "output_type": "execute_result"
    }
   ],
   "source": [
    "spanish_diagnostics_normalized_tokenized[0]"
   ]
  },
  {
   "attachments": {},
   "cell_type": "markdown",
   "metadata": {},
   "source": [
    "## Stemming y Lematización"
   ]
  },
  {
   "attachments": {},
   "cell_type": "markdown",
   "metadata": {},
   "source": [
    "Con el fin de disminuir la cantidad de características de las representaciones de texto existen métodos que reducen el tamaño de vocabulario al eliminar inflexiones que puedan tener las palabras. Estos métodos son:\n",
    "\n",
    "- Lematización: Este método lleva una palabra en su forma flexionada a su forma base, por ejemplo *tratada* -> *tratar*\n",
    "- Stemming: Este método trunca las palabras de entrada mediante un algoritmo predefinido para encontrar la raíz de la misma, por ejemplo *tratada* -> *trat*\n",
    "\n",
    "El proceso de lematización lo haremos a través de la biblioteca Spacy y el proceso de stemming a través de la biblioteca NLTK utilizando el algoritmo Snowball."
   ]
  },
  {
   "attachments": {},
   "cell_type": "markdown",
   "metadata": {},
   "source": [
    "Instanciamos el analizador de Spacy"
   ]
  },
  {
   "cell_type": "code",
   "execution_count": 27,
   "metadata": {},
   "outputs": [],
   "source": [
    "nlp = es_core_news_sm.load()"
   ]
  },
  {
   "attachments": {},
   "cell_type": "markdown",
   "metadata": {},
   "source": [
    "Definimos como tokenizador el que entrenamos anteriormente."
   ]
  },
  {
   "cell_type": "code",
   "execution_count": 28,
   "metadata": {},
   "outputs": [],
   "source": [
    "def custom_tokenizer(text):\n",
    "    tokens = tokenizer.encode(text).tokens\n",
    "    return spacy.tokens.Doc(nlp.vocab, tokens)"
   ]
  },
  {
   "cell_type": "code",
   "execution_count": 29,
   "metadata": {},
   "outputs": [],
   "source": [
    "nlp.tokenizer = custom_tokenizer"
   ]
  },
  {
   "attachments": {},
   "cell_type": "markdown",
   "metadata": {},
   "source": [
    "Instanciamos el Stemmer"
   ]
  },
  {
   "cell_type": "code",
   "execution_count": 30,
   "metadata": {},
   "outputs": [],
   "source": [
    "stemmer = nltk.stem.SnowballStemmer(\"spanish\")"
   ]
  },
  {
   "attachments": {},
   "cell_type": "markdown",
   "metadata": {},
   "source": [
    "Podemos verificar cómo funcionan estos métodos sobre un texto de prueba de nuestro conjunto de datos."
   ]
  },
  {
   "cell_type": "code",
   "execution_count": 31,
   "metadata": {},
   "outputs": [
    {
     "data": {
      "text/plain": [
       "'pieza n 3.4 tratada endodonticamente, restaurada con ionomero y resina compuesta. Necesita protesis fija por gran pNrdida coronaria'"
      ]
     },
     "execution_count": 31,
     "metadata": {},
     "output_type": "execute_result"
    }
   ],
   "source": [
    "spanish_diagnostics_normalized_tokenized[5][\"text\"]"
   ]
  },
  {
   "cell_type": "code",
   "execution_count": 32,
   "metadata": {},
   "outputs": [
    {
     "name": "stdout",
     "output_type": "stream",
     "text": [
      "Token: pieza\n",
      "Lema: pieza\n",
      "Stem: piez\n",
      "---\n",
      "Token: n\n",
      "Lema: n\n",
      "Stem: n\n",
      "---\n",
      "Token: tratada\n",
      "Lema: tratado\n",
      "Stem: trat\n",
      "---\n",
      "Token: endodonticamente\n",
      "Lema: endodonticamente\n",
      "Stem: endodont\n",
      "---\n",
      "Token: restaurada\n",
      "Lema: restaurado\n",
      "Stem: restaur\n",
      "---\n",
      "Token: con\n",
      "Lema: con\n",
      "Stem: con\n",
      "---\n",
      "Token: ionomero\n",
      "Lema: ionomero\n",
      "Stem: ionomer\n",
      "---\n",
      "Token: y\n",
      "Lema: y\n",
      "Stem: y\n",
      "---\n",
      "Token: resina\n",
      "Lema: resina\n",
      "Stem: resin\n",
      "---\n",
      "Token: compuesta\n",
      "Lema: compuesto\n",
      "Stem: compuest\n",
      "---\n",
      "Token: necesita\n",
      "Lema: necesitar\n",
      "Stem: necesit\n",
      "---\n",
      "Token: protesis\n",
      "Lema: protesis\n",
      "Stem: protesis\n",
      "---\n",
      "Token: fija\n",
      "Lema: fijo\n",
      "Stem: fij\n",
      "---\n",
      "Token: por\n",
      "Lema: por\n",
      "Stem: por\n",
      "---\n",
      "Token: gran\n",
      "Lema: gran\n",
      "Stem: gran\n",
      "---\n",
      "Token: pnrdida\n",
      "Lema: pnrdida\n",
      "Stem: pnrdid\n",
      "---\n",
      "Token: coronaria\n",
      "Lema: coronario\n",
      "Stem: coronari\n",
      "---\n"
     ]
    }
   ],
   "source": [
    "for t in nlp(spanish_diagnostics_normalized_tokenized[5][\"text\"]):\n",
    "    print(\n",
    "        f\"Token: {t.text}\\nLema: {t.lemma_}\\nStem: {stemmer.stem(t.text)}\\n---\")"
   ]
  }
 ],
 "metadata": {
  "colab": {
   "name": "Practico_clase1_NLP.ipynb",
   "provenance": []
  },
  "kernelspec": {
   "display_name": "Python 3",
   "language": "python",
   "name": "python3"
  },
  "language_info": {
   "codemirror_mode": {
    "name": "ipython",
    "version": 3
   },
   "file_extension": ".py",
   "mimetype": "text/x-python",
   "name": "python",
   "nbconvert_exporter": "python",
   "pygments_lexer": "ipython3",
   "version": "3.11.12"
  }
 },
 "nbformat": 4,
 "nbformat_minor": 1
}
