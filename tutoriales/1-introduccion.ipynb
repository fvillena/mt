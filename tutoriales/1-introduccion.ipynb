{
 "cells": [
  {
   "attachments": {},
   "cell_type": "markdown",
   "metadata": {},
   "source": [
    "# Introducción al Procesamiento de Lenguaje Natural\n",
    "\n",
    "El Procesamiento de Lenguaje Natural Clínico (PLN clínico) se enfoca en analizar y extraer información relevante de textos escritos por profesionales de la salud, como registros médicos e interconsultas. Estos textos contienen valiosa información clínica, pero también presentan desafíos debido a su lenguaje especializado, abreviaturas y variaciones en la escritura. En este curso aprenderás a manejar y procesar textos clínicos en español, utilizando herramientas de análisis automático para apoyar la toma de decisiones en salud."
   ]
  },
  {
   "cell_type": "code",
   "execution_count": 6,
   "metadata": {},
   "outputs": [],
   "source": [
    "import datasets # Biblioteca de manejo de conjuntos de datos para procesamiento de lenguaje natural\n",
    "import pandas as pd # Biblioteca de manejo de conjuntos de datos\n",
    "import re # Módulo de expresiones regulares\n",
    "from pathlib import Path # Biblioteca para manejo de paths relativos\n",
    "import os # Módulo incorporado en Python que proporciona funciones para interactuar con el sistema operativo\n",
    "import csv # Módulo incorporado en Python que proporciona funciones para leer y escribir archivos CSV"
   ]
  },
  {
   "attachments": {},
   "cell_type": "markdown",
   "metadata": {},
   "source": [
    "## Importación de datos de texto\n",
    "\n",
    "El primer paso en el procesamiento de lenguaje natural clínico es la lectura e importación de textos desde archivos, como registros médicos o notas de consulta. Al trabajar con datos de texto, es fundamental manejar correctamente la codificación de caracteres (*encoding*) para asegurar que los textos sean leídos de forma adecuada, especialmente cuando incluyen tildes, eñes o símbolos especiales. Seleccionar el encoding correcto evita errores y problemas de interpretación en los análisis posteriores.\n",
    "\n",
    "### Codificaciones comunes de texto\n",
    "\n",
    "- **UTF-8:** El encoding más utilizado y recomendado. Soporta prácticamente todos los caracteres y es ideal cuando no se conoce el origen exacto del archivo.\n",
    "- **Latin-1 (ISO 8859-1):** Común en archivos creados en entornos Windows o sistemas europeos; soporta muchos idiomas occidentales, incluidos los caracteres latinos.\n",
    "- **UTF-16:** Utiliza 16 bits por carácter y es útil para textos multilingües o algunos idiomas asiáticos.\n",
    "- **UTF-32:** Emplea 32 bits por carácter y se usa en aplicaciones muy específicas; rara vez necesario para registros clínicos en español.\n",
    "- **ASCII:** Solo admite caracteres en inglés sin acentos ni símbolos especiales; no es adecuado para textos en español."
   ]
  },
  {
   "attachments": {},
   "cell_type": "markdown",
   "metadata": {},
   "source": [
    "### Leer un archivo de texto con `open()`\n",
    "\n",
    "Para acceder al contenido de un archivo de texto en Python, se utiliza la función `open()`. Es importante indicar el modo de apertura (`\"r\"` para lectura) y la codificación de caracteres (`encoding=\"utf-8\"` suele ser la opción adecuada para textos en español)."
   ]
  },
  {
   "cell_type": "code",
   "execution_count": 7,
   "metadata": {},
   "outputs": [
    {
     "name": "stdout",
     "output_type": "stream",
     "text": [
      "- ANGINA DE PECHO, NO ESPECIFICADA/  - Fundamento Clínico APS: Paciente Hipertensa, con adormecimiento en brazo izquierdo y sensacion de ahogo.\n"
     ]
    }
   ],
   "source": [
    "with open(\n",
    "    \"/workspaces/mt/data/ann_sample/interconsulta.txt\",  # Ruta al archivo de texto, modificar según sea necesario\n",
    "    \"r\",  # Modo de apertura del archivo: 'r' para lectura\n",
    "    encoding=\"utf-8\",  # Codificación del archivo, 'utf-8' es común para archivos de texto\n",
    ") as file:\n",
    "    txt = file.read()\n",
    "    \n",
    "print(txt)"
   ]
  },
  {
   "cell_type": "markdown",
   "metadata": {},
   "source": [
    "**Nota:**  \n",
    "Si al ejecutar este código aparecen errores relacionados con la codificación, prueba cambiando `encoding=\"utf-8\"` por `encoding=\"latin-1\"`.  \n",
    "Asegúrate de que la ruta al archivo sea correcta según la ubicación en tu equipo o entorno de trabajo."
   ]
  },
  {
   "cell_type": "markdown",
   "metadata": {},
   "source": [
    "### Leer una tabla de datos con la biblioteca estándar `csv`\n",
    "\n",
    "Además de archivos de texto simples, es común encontrar datos clínicos organizados en formato de tabla, como archivos CSV (valores separados por comas). Python ofrece la biblioteca estándar `csv` para leer este tipo de archivos de manera eficiente. A continuación se muestra cómo abrir un archivo CSV y leer su contenido fila por fila, convirtiendo cada fila en un diccionario para facilitar el acceso a las columnas por nombre."
   ]
  },
  {
   "cell_type": "code",
   "execution_count": 8,
   "metadata": {},
   "outputs": [
    {
     "name": "stdout",
     "output_type": "stream",
     "text": [
      "{'diagnostic': '- ANOMALÍAS DENTOFACIALES (INCLUSO LA MALOCLUSIÓN)\\r\\n\\r\\n\\r\\n DISCREPANCIA DENTOMAXILAR', 'is_dental': '1'}\n",
      "{'diagnostic': 'OBTRUCCION FOSA NASAL DERECHA', 'is_dental': '0'}\n",
      "{'diagnostic': 'Perturbación de la actividad y de la atención Trastorno defícit atencional', 'is_dental': '0'}\n",
      "{'diagnostic': 'M7 PROLAPSO VAGINAL PARED ANTERIOR G11 G 111 ALGIA PELVICA HTA CRONICA', 'is_dental': '0'}\n",
      "{'diagnostic': 'PIEZA 3 CARIES DENTINARIA PROFUNDA PROXIMA A CAMARA PULPAR, EVALUAR POR ESPECIALIDAD', 'is_dental': '1'}\n",
      "{'diagnostic': 'pieza n 3.4 tratada endodonticamente, restaurada con ionomero y resina compuesta. Necesita protesis fija por gran pNrdida coronaria', 'is_dental': '1'}\n",
      "{'diagnostic': 'PZ. 12 TREPANADA', 'is_dental': '1'}\n",
      "{'diagnostic': 'CARCINOMA TORIODEO', 'is_dental': '0'}\n",
      "{'diagnostic': 'DISPEPSIA Y METEORISMO', 'is_dental': '0'}\n",
      "{'diagnostic': 'ASA 1 DENTICION TEMPORAL MORDIDA CRUZADA', 'is_dental': '1'}\n",
      "{'diagnostic': '- DISMINUCION DE AGUDEZA VISUAL. - ESCATOMAS O.D.', 'is_dental': '0'}\n"
     ]
    }
   ],
   "source": [
    "# Especifica la ruta al archivo CSV\n",
    "ruta_csv = \"/workspaces/mt/spanish_diagnostics/spanish_diagnostics.csv\"  # Modifica según corresponda\n",
    "\n",
    "# Abrir el archivo CSV y leerlo como una lista de diccionarios\n",
    "with open(ruta_csv, newline='', encoding='utf-8') as archivo:\n",
    "    lector = csv.DictReader(archivo)\n",
    "    for i, fila in enumerate(lector):\n",
    "        print(fila)  # Cada fila es un diccionario con claves iguales a los nombres de las columnas\n",
    "        if i == 10:\n",
    "            break"
   ]
  },
  {
   "cell_type": "markdown",
   "metadata": {},
   "source": [
    "### Leer tablas de datos con DataFrames de `Pandas`\n",
    "\n",
    "La biblioteca `pandas` es fundamental en ciencia de datos y permite trabajar de forma eficiente con tablas grandes. Para importar un archivo CSV y convertirlo en un *DataFrame*, usamos la función `pd.read_csv()`. Es importante asegurarse de usar la codificación correcta (`encoding`)."
   ]
  },
  {
   "cell_type": "code",
   "execution_count": 9,
   "metadata": {},
   "outputs": [
    {
     "data": {
      "text/html": [
       "<div>\n",
       "<style scoped>\n",
       "    .dataframe tbody tr th:only-of-type {\n",
       "        vertical-align: middle;\n",
       "    }\n",
       "\n",
       "    .dataframe tbody tr th {\n",
       "        vertical-align: top;\n",
       "    }\n",
       "\n",
       "    .dataframe thead th {\n",
       "        text-align: right;\n",
       "    }\n",
       "</style>\n",
       "<table border=\"1\" class=\"dataframe\">\n",
       "  <thead>\n",
       "    <tr style=\"text-align: right;\">\n",
       "      <th></th>\n",
       "      <th>diagnostic</th>\n",
       "      <th>is_dental</th>\n",
       "    </tr>\n",
       "  </thead>\n",
       "  <tbody>\n",
       "    <tr>\n",
       "      <th>0</th>\n",
       "      <td>- ANOMALÍAS DENTOFACIALES (INCLUSO LA MALOCLUS...</td>\n",
       "      <td>1</td>\n",
       "    </tr>\n",
       "    <tr>\n",
       "      <th>1</th>\n",
       "      <td>OBTRUCCION FOSA NASAL DERECHA</td>\n",
       "      <td>0</td>\n",
       "    </tr>\n",
       "    <tr>\n",
       "      <th>2</th>\n",
       "      <td>Perturbación de la actividad y de la atención ...</td>\n",
       "      <td>0</td>\n",
       "    </tr>\n",
       "    <tr>\n",
       "      <th>3</th>\n",
       "      <td>M7 PROLAPSO VAGINAL PARED ANTERIOR G11 G 111 A...</td>\n",
       "      <td>0</td>\n",
       "    </tr>\n",
       "    <tr>\n",
       "      <th>4</th>\n",
       "      <td>PIEZA 3 CARIES DENTINARIA PROFUNDA PROXIMA A C...</td>\n",
       "      <td>1</td>\n",
       "    </tr>\n",
       "  </tbody>\n",
       "</table>\n",
       "</div>"
      ],
      "text/plain": [
       "                                          diagnostic  is_dental\n",
       "0  - ANOMALÍAS DENTOFACIALES (INCLUSO LA MALOCLUS...          1\n",
       "1                      OBTRUCCION FOSA NASAL DERECHA          0\n",
       "2  Perturbación de la actividad y de la atención ...          0\n",
       "3  M7 PROLAPSO VAGINAL PARED ANTERIOR G11 G 111 A...          0\n",
       "4  PIEZA 3 CARIES DENTINARIA PROFUNDA PROXIMA A C...          1"
      ]
     },
     "execution_count": 9,
     "metadata": {},
     "output_type": "execute_result"
    }
   ],
   "source": [
    "# Leer el archivo CSV correctamente con UTF-8 (recomendado)\n",
    "df = pd.read_csv(\"/workspaces/mt/spanish_diagnostics/spanish_diagnostics.csv\", encoding='utf-8')\n",
    "df.head()"
   ]
  },
  {
   "cell_type": "markdown",
   "metadata": {},
   "source": [
    "Si la codificación no es correcta, los caracteres pueden verse mal o aparecer errores. Por ejemplo, al leer el archivo con `latin-1` podría haber problemas:"
   ]
  },
  {
   "cell_type": "code",
   "execution_count": 10,
   "metadata": {},
   "outputs": [
    {
     "data": {
      "text/html": [
       "<div>\n",
       "<style scoped>\n",
       "    .dataframe tbody tr th:only-of-type {\n",
       "        vertical-align: middle;\n",
       "    }\n",
       "\n",
       "    .dataframe tbody tr th {\n",
       "        vertical-align: top;\n",
       "    }\n",
       "\n",
       "    .dataframe thead th {\n",
       "        text-align: right;\n",
       "    }\n",
       "</style>\n",
       "<table border=\"1\" class=\"dataframe\">\n",
       "  <thead>\n",
       "    <tr style=\"text-align: right;\">\n",
       "      <th></th>\n",
       "      <th>diagnostic</th>\n",
       "      <th>is_dental</th>\n",
       "    </tr>\n",
       "  </thead>\n",
       "  <tbody>\n",
       "    <tr>\n",
       "      <th>0</th>\n",
       "      <td>- ANOMALÃAS DENTOFACIALES (INCLUSO LA MALOCLU...</td>\n",
       "      <td>1</td>\n",
       "    </tr>\n",
       "    <tr>\n",
       "      <th>1</th>\n",
       "      <td>OBTRUCCION FOSA NASAL DERECHA</td>\n",
       "      <td>0</td>\n",
       "    </tr>\n",
       "    <tr>\n",
       "      <th>2</th>\n",
       "      <td>PerturbaciÃ³n de la actividad y de la atenciÃ³...</td>\n",
       "      <td>0</td>\n",
       "    </tr>\n",
       "    <tr>\n",
       "      <th>3</th>\n",
       "      <td>M7 PROLAPSO VAGINAL PARED ANTERIOR G11 G 111 A...</td>\n",
       "      <td>0</td>\n",
       "    </tr>\n",
       "    <tr>\n",
       "      <th>4</th>\n",
       "      <td>PIEZA 3 CARIES DENTINARIA PROFUNDA PROXIMA A C...</td>\n",
       "      <td>1</td>\n",
       "    </tr>\n",
       "  </tbody>\n",
       "</table>\n",
       "</div>"
      ],
      "text/plain": [
       "                                          diagnostic  is_dental\n",
       "0  - ANOMALÃAS DENTOFACIALES (INCLUSO LA MALOCLU...          1\n",
       "1                      OBTRUCCION FOSA NASAL DERECHA          0\n",
       "2  PerturbaciÃ³n de la actividad y de la atenciÃ³...          0\n",
       "3  M7 PROLAPSO VAGINAL PARED ANTERIOR G11 G 111 A...          0\n",
       "4  PIEZA 3 CARIES DENTINARIA PROFUNDA PROXIMA A C...          1"
      ]
     },
     "execution_count": 10,
     "metadata": {},
     "output_type": "execute_result"
    }
   ],
   "source": [
    "# Intentar leer con otra codificación\n",
    "df_malo = pd.read_csv(ruta_csv, encoding='latin-1')\n",
    "df_malo.head()"
   ]
  },
  {
   "cell_type": "markdown",
   "metadata": {},
   "source": [
    "**Tip:**  \n",
    "Siempre revisa las primeras filas del DataFrame (`.head()`) para comprobar que los caracteres especiales (tildes, ñ, etc.) se hayan importado correctamente y no ves símbolos extraños o errores.  \n",
    "Si ves caracteres extraños (`Ã¡`, `Ã±`, etc.), revisa y prueba cambiar el argumento `encoding`."
   ]
  },
  {
   "attachments": {},
   "cell_type": "markdown",
   "metadata": {},
   "source": [
    "## 🤗 Datasets\n",
    "\n",
    "🤗 (HuggingFace) Datasets es una biblioteca de manejo de conjuntos de datos para procesamiento de lenguaje natural que se destaca por la simplicidad de sus métodos y el gran repositorio 🤗 Hub que contiene muchos conjuntos de datos libres para descargar sólo con una linea de Python.\n",
    "\n",
    "En nuestro curso trabajaremos con `spanish_diagnostics`, un conjunto de datos de nuestro grupo investigación que contiene textos de sospechas diagnósticas de la lista de espera chilena y está etiquetado con el destino de la interconsulta; este destino puede ser `dental` o `no_dental`."
   ]
  },
  {
   "cell_type": "code",
   "execution_count": 11,
   "metadata": {},
   "outputs": [
    {
     "data": {
      "application/vnd.jupyter.widget-view+json": {
       "model_id": "3f46fe54432e4b9290bad51ed453b996",
       "version_major": 2,
       "version_minor": 0
      },
      "text/plain": [
       "spanish_diagnostics.py:   0%|          | 0.00/1.67k [00:00<?, ?B/s]"
      ]
     },
     "metadata": {},
     "output_type": "display_data"
    },
    {
     "data": {
      "application/vnd.jupyter.widget-view+json": {
       "model_id": "dbfc90c8bd1440f79c349dab9101ff08",
       "version_major": 2,
       "version_minor": 0
      },
      "text/plain": [
       "0000.parquet:   0%|          | 0.00/3.27M [00:00<?, ?B/s]"
      ]
     },
     "metadata": {},
     "output_type": "display_data"
    },
    {
     "data": {
      "application/vnd.jupyter.widget-view+json": {
       "model_id": "cd079de869034d74934dda975fb4faf2",
       "version_major": 2,
       "version_minor": 0
      },
      "text/plain": [
       "0000.parquet:   0%|          | 0.00/1.37M [00:00<?, ?B/s]"
      ]
     },
     "metadata": {},
     "output_type": "display_data"
    },
    {
     "data": {
      "application/vnd.jupyter.widget-view+json": {
       "model_id": "95b960c78cc749f9b934ff810f8541f2",
       "version_major": 2,
       "version_minor": 0
      },
      "text/plain": [
       "Generating train split:   0%|          | 0/70000 [00:00<?, ? examples/s]"
      ]
     },
     "metadata": {},
     "output_type": "display_data"
    },
    {
     "data": {
      "application/vnd.jupyter.widget-view+json": {
       "model_id": "0f500e3d81fb4cd7bf208294cec896f7",
       "version_major": 2,
       "version_minor": 0
      },
      "text/plain": [
       "Generating test split:   0%|          | 0/30000 [00:00<?, ? examples/s]"
      ]
     },
     "metadata": {},
     "output_type": "display_data"
    }
   ],
   "source": [
    "spanish_diagnostics = datasets.load_dataset('fvillena/spanish_diagnostics') # Con esta linea descargamos el conjunto de datos completo"
   ]
  },
  {
   "attachments": {},
   "cell_type": "markdown",
   "metadata": {},
   "source": [
    "Nuestro conjunto de datos cuenta con 2 particiones, una partición `train` y otra `test`."
   ]
  },
  {
   "cell_type": "code",
   "execution_count": 12,
   "metadata": {},
   "outputs": [
    {
     "data": {
      "text/plain": [
       "DatasetDict({\n",
       "    train: Dataset({\n",
       "        features: ['text', 'label'],\n",
       "        num_rows: 70000\n",
       "    })\n",
       "    test: Dataset({\n",
       "        features: ['text', 'label'],\n",
       "        num_rows: 30000\n",
       "    })\n",
       "})"
      ]
     },
     "execution_count": 12,
     "metadata": {},
     "output_type": "execute_result"
    }
   ],
   "source": [
    "spanish_diagnostics"
   ]
  },
  {
   "attachments": {},
   "cell_type": "markdown",
   "metadata": {},
   "source": [
    "En esta clase utilizaremos la partición `train` del conjunto de datos."
   ]
  },
  {
   "cell_type": "code",
   "execution_count": 13,
   "metadata": {},
   "outputs": [
    {
     "data": {
      "text/plain": [
       "Dataset({\n",
       "    features: ['text', 'label'],\n",
       "    num_rows: 70000\n",
       "})"
      ]
     },
     "execution_count": 13,
     "metadata": {},
     "output_type": "execute_result"
    }
   ],
   "source": [
    "spanish_diagnostics[\"train\"]"
   ]
  },
  {
   "attachments": {},
   "cell_type": "markdown",
   "metadata": {},
   "source": [
    "Podemos acceder facilmente a atributos de nuestro `Dataset`.\n",
    "\n",
    "- `shape`: Tal como en muchas otras bibliotecas de python este atributo contiene la forma de nuestro conjunto de datos con la sintaxis `(filas, columnas)`.\n",
    "- `column_names`: Este atributo contiene el nombre de las características que tiene nuestro conjunto de datos. En nuestro caso tenemos una característica `text`, la cual contiene la hipótesis diagnóstica del conjunto de datos y `label` que contiene el destino al cual fue referido.\n",
    "- `features`: Este atributo nos describe la clase a la que pertenece cada una de las características. En nuestro caso `text` es un `string` y `label` es del tipo `ClassLabel` con 2 clases con nombre `not_dental` y `dental`."
   ]
  },
  {
   "cell_type": "code",
   "execution_count": 14,
   "metadata": {},
   "outputs": [
    {
     "data": {
      "text/plain": [
       "(70000, 2)"
      ]
     },
     "execution_count": 14,
     "metadata": {},
     "output_type": "execute_result"
    }
   ],
   "source": [
    "spanish_diagnostics[\"train\"].shape"
   ]
  },
  {
   "cell_type": "code",
   "execution_count": 15,
   "metadata": {},
   "outputs": [
    {
     "data": {
      "text/plain": [
       "['text', 'label']"
      ]
     },
     "execution_count": 15,
     "metadata": {},
     "output_type": "execute_result"
    }
   ],
   "source": [
    "spanish_diagnostics[\"train\"].column_names"
   ]
  },
  {
   "cell_type": "code",
   "execution_count": 16,
   "metadata": {},
   "outputs": [
    {
     "data": {
      "text/plain": [
       "{'text': Value(dtype='string', id=None),\n",
       " 'label': ClassLabel(names=['not_dental', 'dental'], id=None)}"
      ]
     },
     "execution_count": 16,
     "metadata": {},
     "output_type": "execute_result"
    }
   ],
   "source": [
    "spanish_diagnostics[\"train\"].features"
   ]
  },
  {
   "attachments": {},
   "cell_type": "markdown",
   "metadata": {},
   "source": [
    "Tal como en muchas otras clases de datos en Python podemos acceder a subconjuntos de datos a través de sus índices."
   ]
  },
  {
   "cell_type": "code",
   "execution_count": 17,
   "metadata": {},
   "outputs": [
    {
     "data": {
      "text/plain": [
       "{'text': '- ANOMALÍAS DENTOFACIALES (INCLUSO LA MALOCLUSIÓN)\\n\\n\\n DISCREPANCIA DENTOMAXILAR',\n",
       " 'label': 1}"
      ]
     },
     "execution_count": 17,
     "metadata": {},
     "output_type": "execute_result"
    }
   ],
   "source": [
    "spanish_diagnostics[\"train\"][0]"
   ]
  },
  {
   "cell_type": "code",
   "execution_count": 18,
   "metadata": {},
   "outputs": [
    {
     "data": {
      "text/plain": [
       "{'text': ['- ANOMALÍAS DENTOFACIALES (INCLUSO LA MALOCLUSIÓN)\\n\\n\\n DISCREPANCIA DENTOMAXILAR',\n",
       "  'OBTRUCCION FOSA NASAL DERECHA',\n",
       "  'Perturbación de la actividad y de la atención Trastorno defícit atencional'],\n",
       " 'label': [1, 0, 0]}"
      ]
     },
     "execution_count": 18,
     "metadata": {},
     "output_type": "execute_result"
    }
   ],
   "source": [
    "spanish_diagnostics[\"train\"][:3]"
   ]
  },
  {
   "cell_type": "code",
   "execution_count": 19,
   "metadata": {},
   "outputs": [
    {
     "data": {
      "text/plain": [
       "{'text': ['OBTRUCCION FOSA NASAL DERECHA',\n",
       "  'M7 PROLAPSO VAGINAL PARED ANTERIOR G11 G 111 ALGIA PELVICA HTA CRONICA',\n",
       "  'pieza n 3.4 tratada endodonticamente, restaurada con ionomero y resina compuesta. Necesita protesis fija por gran pNrdida coronaria'],\n",
       " 'label': [0, 0, 1]}"
      ]
     },
     "execution_count": 19,
     "metadata": {},
     "output_type": "execute_result"
    }
   ],
   "source": [
    "spanish_diagnostics[\"train\"][1,3,5]"
   ]
  },
  {
   "attachments": {},
   "cell_type": "markdown",
   "metadata": {},
   "source": [
    "También podemos acceder a cada una de las características por separado."
   ]
  },
  {
   "cell_type": "code",
   "execution_count": 20,
   "metadata": {},
   "outputs": [
    {
     "data": {
      "text/plain": [
       "['- ANOMALÍAS DENTOFACIALES (INCLUSO LA MALOCLUSIÓN)\\n\\n\\n DISCREPANCIA DENTOMAXILAR',\n",
       " 'OBTRUCCION FOSA NASAL DERECHA',\n",
       " 'Perturbación de la actividad y de la atención Trastorno defícit atencional']"
      ]
     },
     "execution_count": 20,
     "metadata": {},
     "output_type": "execute_result"
    }
   ],
   "source": [
    "spanish_diagnostics[\"train\"]['text'][:3]"
   ]
  },
  {
   "attachments": {},
   "cell_type": "markdown",
   "metadata": {},
   "source": [
    "Con 🤗 Datasets también podemos trabajar en otras bibliotecas, como por ejemplo importar el conjunto de datos en Pandas."
   ]
  },
  {
   "cell_type": "code",
   "execution_count": 21,
   "metadata": {},
   "outputs": [],
   "source": [
    "spanish_diagnostics_train_df = pd.DataFrame(spanish_diagnostics[\"train\"])"
   ]
  },
  {
   "cell_type": "code",
   "execution_count": 22,
   "metadata": {},
   "outputs": [
    {
     "data": {
      "text/html": [
       "<div>\n",
       "<style scoped>\n",
       "    .dataframe tbody tr th:only-of-type {\n",
       "        vertical-align: middle;\n",
       "    }\n",
       "\n",
       "    .dataframe tbody tr th {\n",
       "        vertical-align: top;\n",
       "    }\n",
       "\n",
       "    .dataframe thead th {\n",
       "        text-align: right;\n",
       "    }\n",
       "</style>\n",
       "<table border=\"1\" class=\"dataframe\">\n",
       "  <thead>\n",
       "    <tr style=\"text-align: right;\">\n",
       "      <th></th>\n",
       "      <th>text</th>\n",
       "      <th>label</th>\n",
       "    </tr>\n",
       "  </thead>\n",
       "  <tbody>\n",
       "    <tr>\n",
       "      <th>0</th>\n",
       "      <td>- ANOMALÍAS DENTOFACIALES (INCLUSO LA MALOCLUS...</td>\n",
       "      <td>1</td>\n",
       "    </tr>\n",
       "    <tr>\n",
       "      <th>1</th>\n",
       "      <td>OBTRUCCION FOSA NASAL DERECHA</td>\n",
       "      <td>0</td>\n",
       "    </tr>\n",
       "    <tr>\n",
       "      <th>2</th>\n",
       "      <td>Perturbación de la actividad y de la atención ...</td>\n",
       "      <td>0</td>\n",
       "    </tr>\n",
       "    <tr>\n",
       "      <th>3</th>\n",
       "      <td>M7 PROLAPSO VAGINAL PARED ANTERIOR G11 G 111 A...</td>\n",
       "      <td>0</td>\n",
       "    </tr>\n",
       "    <tr>\n",
       "      <th>4</th>\n",
       "      <td>PIEZA 3 CARIES DENTINARIA PROFUNDA PROXIMA A C...</td>\n",
       "      <td>1</td>\n",
       "    </tr>\n",
       "    <tr>\n",
       "      <th>...</th>\n",
       "      <td>...</td>\n",
       "      <td>...</td>\n",
       "    </tr>\n",
       "    <tr>\n",
       "      <th>69995</th>\n",
       "      <td>DM1 Evaluación</td>\n",
       "      <td>1</td>\n",
       "    </tr>\n",
       "    <tr>\n",
       "      <th>69996</th>\n",
       "      <td>ABCESO SUBMUCOSO PIEZA 2.6</td>\n",
       "      <td>1</td>\n",
       "    </tr>\n",
       "    <tr>\n",
       "      <th>69997</th>\n",
       "      <td>Pbs Inmunodeficiencia</td>\n",
       "      <td>0</td>\n",
       "    </tr>\n",
       "    <tr>\n",
       "      <th>69998</th>\n",
       "      <td>QUISTE SINOVIAL DEL HUECO POPLITEO, DE BAKER</td>\n",
       "      <td>0</td>\n",
       "    </tr>\n",
       "    <tr>\n",
       "      <th>69999</th>\n",
       "      <td>MALLET FINGE D 1 MANO DERECHA</td>\n",
       "      <td>0</td>\n",
       "    </tr>\n",
       "  </tbody>\n",
       "</table>\n",
       "<p>70000 rows × 2 columns</p>\n",
       "</div>"
      ],
      "text/plain": [
       "                                                    text  label\n",
       "0      - ANOMALÍAS DENTOFACIALES (INCLUSO LA MALOCLUS...      1\n",
       "1                          OBTRUCCION FOSA NASAL DERECHA      0\n",
       "2      Perturbación de la actividad y de la atención ...      0\n",
       "3      M7 PROLAPSO VAGINAL PARED ANTERIOR G11 G 111 A...      0\n",
       "4      PIEZA 3 CARIES DENTINARIA PROFUNDA PROXIMA A C...      1\n",
       "...                                                  ...    ...\n",
       "69995                                     DM1 Evaluación      1\n",
       "69996                         ABCESO SUBMUCOSO PIEZA 2.6      1\n",
       "69997                              Pbs Inmunodeficiencia      0\n",
       "69998       QUISTE SINOVIAL DEL HUECO POPLITEO, DE BAKER      0\n",
       "69999                      MALLET FINGE D 1 MANO DERECHA      0\n",
       "\n",
       "[70000 rows x 2 columns]"
      ]
     },
     "execution_count": 22,
     "metadata": {},
     "output_type": "execute_result"
    }
   ],
   "source": [
    "spanish_diagnostics_train_df"
   ]
  },
  {
   "attachments": {},
   "cell_type": "markdown",
   "metadata": {},
   "source": [
    "Verificamos que nuestro conjunto de datos tiene sus clases balanceadas."
   ]
  },
  {
   "cell_type": "code",
   "execution_count": 23,
   "metadata": {},
   "outputs": [
    {
     "data": {
      "text/plain": [
       "label\n",
       "1    35034\n",
       "0    34966\n",
       "Name: count, dtype: int64"
      ]
     },
     "execution_count": 23,
     "metadata": {},
     "output_type": "execute_result"
    }
   ],
   "source": [
    "spanish_diagnostics_train_df.label.value_counts()"
   ]
  },
  {
   "attachments": {},
   "cell_type": "markdown",
   "metadata": {},
   "source": [
    "Si tenemos localmente un conjunto de datos y queremos importarlo a 🤗 Datasets también podemos hacerlo. Aquí importamos el conjunto de datos desde un archivo CSV."
   ]
  },
  {
   "cell_type": "code",
   "execution_count": 24,
   "metadata": {},
   "outputs": [
    {
     "data": {
      "application/vnd.jupyter.widget-view+json": {
       "model_id": "111955dbf49341d58d669fce0e7b6edd",
       "version_major": 2,
       "version_minor": 0
      },
      "text/plain": [
       "Generating train split: 0 examples [00:00, ? examples/s]"
      ]
     },
     "metadata": {},
     "output_type": "display_data"
    },
    {
     "data": {
      "text/plain": [
       "DatasetDict({\n",
       "    train: Dataset({\n",
       "        features: ['diagnostic', 'is_dental'],\n",
       "        num_rows: 100000\n",
       "    })\n",
       "})"
      ]
     },
     "execution_count": 24,
     "metadata": {},
     "output_type": "execute_result"
    }
   ],
   "source": [
    "path_datos=str(\"/workspaces/mt/spanish_diagnostics/spanish_diagnostics.csv\")\n",
    "datasets.load_dataset('csv', data_files=path_datos)"
   ]
  },
  {
   "attachments": {},
   "cell_type": "markdown",
   "metadata": {},
   "source": [
    "## Normalización\n",
    "\n",
    "Una de las tareas que podemos realizar sobre las características no estructuradas de texto es la normalización. La cual consiste en llevar nuestro texto a una forma más consistente a lo largo del conjunto de datos.\n",
    "\n",
    "Podemos observar que nuestro conjunto de datos cuenta con una alta inconsistencia respecto al uso de mayúsculas, el uso de tildes y el uso de signos de puntuación."
   ]
  },
  {
   "cell_type": "code",
   "execution_count": 25,
   "metadata": {},
   "outputs": [
    {
     "data": {
      "text/plain": [
       "['- ANOMALÍAS DENTOFACIALES (INCLUSO LA MALOCLUSIÓN)\\n\\n\\n DISCREPANCIA DENTOMAXILAR',\n",
       " 'OBTRUCCION FOSA NASAL DERECHA',\n",
       " 'Perturbación de la actividad y de la atención Trastorno defícit atencional',\n",
       " 'M7 PROLAPSO VAGINAL PARED ANTERIOR G11 G 111 ALGIA PELVICA HTA CRONICA',\n",
       " 'PIEZA 3 CARIES DENTINARIA PROFUNDA PROXIMA A CAMARA PULPAR, EVALUAR POR ESPECIALIDAD',\n",
       " 'pieza n 3.4 tratada endodonticamente, restaurada con ionomero y resina compuesta. Necesita protesis fija por gran pNrdida coronaria',\n",
       " 'PZ. 12 TREPANADA',\n",
       " 'CARCINOMA TORIODEO',\n",
       " 'DISPEPSIA Y METEORISMO',\n",
       " 'ASA 1 DENTICION TEMPORAL MORDIDA CRUZADA']"
      ]
     },
     "execution_count": 25,
     "metadata": {},
     "output_type": "execute_result"
    }
   ],
   "source": [
    "spanish_diagnostics[\"train\"][\"text\"][:10]"
   ]
  },
  {
   "attachments": {},
   "cell_type": "markdown",
   "metadata": {},
   "source": [
    "Para poder llevar todo a minúsculas, simplemente podemos utilizar el método str.lower()."
   ]
  },
  {
   "cell_type": "code",
   "execution_count": 26,
   "metadata": {},
   "outputs": [
    {
     "data": {
      "text/plain": [
       "str"
      ]
     },
     "execution_count": 26,
     "metadata": {},
     "output_type": "execute_result"
    }
   ],
   "source": [
    "type(spanish_diagnostics[\"train\"][\"text\"][0])"
   ]
  },
  {
   "cell_type": "code",
   "execution_count": 27,
   "metadata": {},
   "outputs": [
    {
     "data": {
      "text/plain": [
       "'- anomalías dentofaciales (incluso la maloclusión)\\n\\n\\n discrepancia dentomaxilar'"
      ]
     },
     "execution_count": 27,
     "metadata": {},
     "output_type": "execute_result"
    }
   ],
   "source": [
    "sample_sentence_lower = spanish_diagnostics[\"train\"][\"text\"][0].lower()\n",
    "sample_sentence_lower"
   ]
  },
  {
   "attachments": {},
   "cell_type": "markdown",
   "metadata": {},
   "source": [
    "### Expresiones regulares"
   ]
  },
  {
   "attachments": {},
   "cell_type": "markdown",
   "metadata": {},
   "source": [
    "Las expresiones regulares son una herramienta poderosa para manipular y buscar patrones en cadenas de texto. Las expresiones regulares en Python se definen como una secuencia de caracteres que especifican un patrón de búsqueda. Puedes utilizarlas para realizar tareas como validar formatos de cadenas, extraer información específica de un texto o reemplazar partes de una cadena. En python tenemos el paquete re, sus principales funciones son las siguientes:\n",
    "\n",
    "\n",
    "* re.search(pattern, string): Busca el patrón en toda la cadena y devuelve un objeto \"Match\" si encuentra una coincidencia. Puedes utilizar métodos como group() para obtener la cadena que coincide con el patrón.\n",
    "\n",
    "* re.match(pattern, string): Busca el patrón solo al comienzo de la cadena y devuelve un objeto \"Match\" si encuentra una coincidencia.\n",
    "\n",
    "* re.findall(pattern, string): Busca todas las coincidencias del patrón en la cadena y devuelve una lista de cadenas que cumplen con el patrón.\n",
    "\n",
    "* re.sub(pattern, repl, string): Busca todas las coincidencias del patrón en la cadena y las reemplaza con la cadena de reemplazo especificada.\n",
    "\n",
    "Para definir un patrón de expresión regular, puedes utilizar varios caracteres especiales y secuencias de escape. Algunos de los caracteres especiales comunes incluyen:\n",
    "\n",
    "* `.` : Coincide con cualquier carácter excepto una nueva línea.\n",
    "* * Ejemplo: a.b coincide con \"aab\", \"a1b\", \"a@b\", etc., pero no con \"a\\nb\". \n",
    "* `*` : Coincide con cero o más repeticiones del elemento anterior.\n",
    "* * Ejemplo: ab*c coincide con \"ac\", \"abc\", \"abbc\", \"abbbc\", etc.\n",
    "* `+` : Coincide con una o más repeticiones del elemento anterior.\n",
    "* * Ejemplo: ab+c coincide con \"abc\", \"abbc\", \"abbbc\", etc., pero no con \"ac\".\n",
    "* `^` : Coincide con el inicio de una cadena o línea.\n",
    "* * Ejemplo: ^Start coincide con \"Start of line\", pero no con \"End of line: Start\".\n",
    "* `$` : Coincide con el final de una cadena o línea.\n",
    "* * Ejemplo: end$ coincide con \"End of line\", pero no con \"Start of line: End\".\n",
    "* `?` : Coincide con cero o una repetición del elemento anterior.\n",
    "* * Ejemplo: colou?r coincide con \"color\" y \"colour\".\n",
    "* `[ ]`: Coincide con cualquier carácter dentro de los corchetes.\n",
    "* * Ejemplo: `[aeiou]` coincide con cualquier vocal en minúscula.\n",
    "* `( )` : Agrupación de elementos y captura de grupos.\n",
    "* * Ejemplo: (ab)+ coincide con \"ab\", \"abab\", \"ababab\", etc.\n",
    "* `\\` : Se utiliza como carácter de escape para caracteres especiales o para dar significado especial a ciertos caracteres.\n",
    "* * Ejemplo: \\d coincide con cualquier dígito, \\b coincide con una posición en la cadena donde hay un cambio de caracteres de palabra a no palabra o viceversa.\n",
    "* `|` : Coincide con uno de los patrones separados por el operador \"|\".\n",
    "* * Ejemplo: cat|dog coincide con \"cat\" o \"dog\".\n"
   ]
  },
  {
   "attachments": {},
   "cell_type": "markdown",
   "metadata": {},
   "source": [
    "Para eliminar todo los caracteres no alfabéticos podemos utilizar un patrón de expresión regular con la sintaxis: `[^a-zñáéíóú]`, la cual se explica como:\n",
    "\n",
    "- `[^`: Este es un `NO` lógico que invierte todo lo que viene a su derecha.\n",
    "- `a-z`: Este patrón coincide todos los caracteres de la `a` a la `z` (minúsculas)\n",
    "- `áéíóú`: Este patrón coincide con todas las vocales con tilde.\n",
    "\n",
    "Todos estos patrones están concatenados con un `O` lógico."
   ]
  },
  {
   "cell_type": "code",
   "execution_count": 28,
   "metadata": {},
   "outputs": [
    {
     "data": {
      "text/plain": [
       "'  anomalías dentofaciales  incluso la maloclusión     discrepancia dentomaxilar'"
      ]
     },
     "execution_count": 28,
     "metadata": {},
     "output_type": "execute_result"
    }
   ],
   "source": [
    "sample_sentence_lower_alpha = re.sub(r'[^a-zñáéíóú]', ' ', sample_sentence_lower)\n",
    "sample_sentence_lower_alpha"
   ]
  },
  {
   "attachments": {},
   "cell_type": "markdown",
   "metadata": {},
   "source": [
    "Reemplazamos todas las vocales con tilde con con su forma sin tilde."
   ]
  },
  {
   "cell_type": "code",
   "execution_count": 29,
   "metadata": {},
   "outputs": [
    {
     "data": {
      "text/plain": [
       "'  anomalías dentofaciales  incluso la maloclusion     discrepancia dentomaxilar'"
      ]
     },
     "execution_count": 29,
     "metadata": {},
     "output_type": "execute_result"
    }
   ],
   "source": [
    "re.sub('ó', 'o', sample_sentence_lower_alpha)"
   ]
  },
  {
   "attachments": {},
   "cell_type": "markdown",
   "metadata": {},
   "source": [
    "Agrupamos todo en una función que normalizará una cadena de texto que le pasemos."
   ]
  },
  {
   "cell_type": "code",
   "execution_count": 30,
   "metadata": {},
   "outputs": [],
   "source": [
    "def normalize(text, remove_tildes=True):\n",
    "    \"\"\"Normaliza una cadena de texto convirtiéndo todo a minúsculas, quitando los caracteres no alfabéticos y los tildes\"\"\"\n",
    "    text = text.lower()  # Llevamos todo a minúscula\n",
    "    text = re.sub(\n",
    "        r\"[^A-Za-zñáéíóú]\", \" \", text\n",
    "    )  # Reemplazamos los caracteres no alfabéticos por un espacio\n",
    "    if remove_tildes:\n",
    "        text = re.sub(\"á\", \"a\", text)  # Reemplazamos los tildes\n",
    "        text = re.sub(\"é\", \"e\", text)\n",
    "        text = re.sub(\"í\", \"i\", text)\n",
    "        text = re.sub(\"ó\", \"o\", text)\n",
    "        text = re.sub(\"ú\", \"u\", text)\n",
    "    return text"
   ]
  },
  {
   "attachments": {},
   "cell_type": "markdown",
   "metadata": {},
   "source": [
    "Los objetos del tipo Dataset implementan un método Dataset.map() con el cual podemo aplicar una función a cada una de las instancias de nuesto conjunto de datos. Lo interesante de este método es que aplica la función de manera paralela."
   ]
  },
  {
   "cell_type": "code",
   "execution_count": 31,
   "metadata": {},
   "outputs": [
    {
     "data": {
      "application/vnd.jupyter.widget-view+json": {
       "model_id": "c94d7bbbc8c04df3b5f42dc87ab4db28",
       "version_major": 2,
       "version_minor": 0
      },
      "text/plain": [
       "Map:   0%|          | 0/70000 [00:00<?, ? examples/s]"
      ]
     },
     "metadata": {},
     "output_type": "display_data"
    }
   ],
   "source": [
    "spanish_diagnostics_normalized = spanish_diagnostics[\"train\"].map(\n",
    "    lambda x: { # Utilizamos una función anónima que devuelve un diccionario\n",
    "        \"normalized_text\" : normalize(x[\"text\"]) # Esta es una nueva característica que agregaremos a nuestro conjunto de datos.\n",
    "    })"
   ]
  },
  {
   "attachments": {},
   "cell_type": "markdown",
   "metadata": {},
   "source": [
    "Ahora nuestro conjunto de datos cuenta con una nueva característica `normalized_text`."
   ]
  },
  {
   "cell_type": "code",
   "execution_count": 32,
   "metadata": {},
   "outputs": [
    {
     "data": {
      "text/plain": [
       "{'text': '- ANOMALÍAS DENTOFACIALES (INCLUSO LA MALOCLUSIÓN)\\n\\n\\n DISCREPANCIA DENTOMAXILAR',\n",
       " 'label': 1,\n",
       " 'normalized_text': '  anomalias dentofaciales  incluso la maloclusion     discrepancia dentomaxilar'}"
      ]
     },
     "execution_count": 32,
     "metadata": {},
     "output_type": "execute_result"
    }
   ],
   "source": [
    "spanish_diagnostics_normalized[0]"
   ]
  },
  {
   "cell_type": "code",
   "execution_count": 33,
   "metadata": {},
   "outputs": [
    {
     "data": {
      "text/plain": [
       "{'text': ['- ANOMALÍAS DENTOFACIALES (INCLUSO LA MALOCLUSIÓN)\\n\\n\\n DISCREPANCIA DENTOMAXILAR',\n",
       "  'OBTRUCCION FOSA NASAL DERECHA',\n",
       "  'Perturbación de la actividad y de la atención Trastorno defícit atencional'],\n",
       " 'label': [1, 0, 0],\n",
       " 'normalized_text': ['  anomalias dentofaciales  incluso la maloclusion     discrepancia dentomaxilar',\n",
       "  'obtruccion fosa nasal derecha',\n",
       "  'perturbacion de la actividad y de la atencion trastorno deficit atencional']}"
      ]
     },
     "execution_count": 33,
     "metadata": {},
     "output_type": "execute_result"
    }
   ],
   "source": [
    "spanish_diagnostics_normalized[0:3]"
   ]
  }
 ],
 "metadata": {
  "kernelspec": {
   "display_name": "Python 3",
   "language": "python",
   "name": "python3"
  },
  "language_info": {
   "codemirror_mode": {
    "name": "ipython",
    "version": 3
   },
   "file_extension": ".py",
   "mimetype": "text/x-python",
   "name": "python",
   "nbconvert_exporter": "python",
   "pygments_lexer": "ipython3",
   "version": "3.11.12"
  }
 },
 "nbformat": 4,
 "nbformat_minor": 4
}
